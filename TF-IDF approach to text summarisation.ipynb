{
 "cells": [
  {
   "cell_type": "code",
   "execution_count": 66,
   "metadata": {},
   "outputs": [],
   "source": [
    "import nltk\n",
    "import re\n",
    "from nltk.corpus import stopwords\n",
    "from nltk.tokenize import word_tokenize,sent_tokenize\n",
    "import math"
   ]
  },
  {
   "cell_type": "code",
   "execution_count": 78,
   "metadata": {},
   "outputs": [],
   "source": [
    "text='''A Boeing 737 MAX aircraft operated by Southwest Airlines made an emergency landing on Tuesday after experiencing an engine problem as it was being ferried from Florida to California, the US Federal Aviation Agency said. \"The aircraft returned and landed safely in Orlando,\" the FAA said in a statement, adding that no passengers were on board the aircraft, which was being transferred to Victorville, California for storage. \"The FAA is investigating,\" added the agency, which grounded the Boeing 737 MAX on March 13 following two deadly accidents involving Ethiopian Airlines and Lion Air but continues to allow the planes to be ferried from airport to airport. Southwest said the plane experienced an engine problem \"shortly after takeoff.\" \"The crew followed protocol and safely landed back at the airport\" around 3:00 pm (1900 GMT), spokesman Chris Mainz said. \"The Boeing 737 MAX 8 will be moved to our Orlando maintenance facility for a review.\" It was the latest setback for Boeing's flagship narrow-body plane following October's Lion Air crash and the Ethiopian Airlines accident earlier this month, which together killed 346 people. The accidents, which shared similarities, led authorities across the world to ground the aircraft. Boeing has since conducted test flights of its 737 MAX to evaluate a fix for the MCAS stall prevention system targeted as a potential cause for the deadly crashes, two sources familiar with the matter said. The system has been criticized since it can malfunction and make it difficult for pilots to control the aircraft. Both of the recent crashes occurred moments after takeoff. A Senate Commerce Committee panel will hold a hearing Wednesday to question FAA Acting Administration Daniel Elwell and Transportation Department Inspector General Calvin Scovel The officials are expected to face questions from lawmakers on the FAA's certification of the 737 MAX and whether regulators have become too cozy with the company, and fast-tracked some approvals. The session is expected to be followed by a second hearing at a later date with Boeing, airline pilots and other stakeholders, the committee said.'''\n"
   ]
  },
  {
   "cell_type": "code",
   "execution_count": 91,
   "metadata": {},
   "outputs": [],
   "source": [
    "def remove_string_special_character(s):\n",
    "    stripped=re.sub('[^\\w\\s]','',s)\n",
    "    stripped=re.sub('_','',stripped)\n",
    "    stripped=re.sub('\\s+',' ',stripped)\n",
    "    stripped=stripped.strip()\n",
    "    return stripped"
   ]
  },
  {
   "cell_type": "code",
   "execution_count": 92,
   "metadata": {},
   "outputs": [],
   "source": [
    "def get_doc(sent):\n",
    "    doc_info=[]\n",
    "    i=0\n",
    "    for sen in sent:\n",
    "        i+=1\n",
    "        count=count_words(sen)\n",
    "        temp={'doc_id':i,'doc_length':count}\n",
    "        doc_info.append(temp)\n",
    "    return doc_info"
   ]
  },
  {
   "cell_type": "code",
   "execution_count": 93,
   "metadata": {},
   "outputs": [],
   "source": [
    "def count_words(sent):\n",
    "    count=0\n",
    "    sen=word_tokenize(sent)\n",
    "    for i in sen:\n",
    "        count+=1\n",
    "    return count"
   ]
  },
  {
   "cell_type": "code",
   "execution_count": 94,
   "metadata": {},
   "outputs": [],
   "source": [
    "def create_freq_dict(sents):\n",
    "    i=0\n",
    "    freqDict_list=[]\n",
    "    for sent in sents:\n",
    "        i+=1\n",
    "        freq_dict={}\n",
    "        words=word_tokenize(sent)\n",
    "        for word in words:\n",
    "            word=word.lower()\n",
    "            if word in freq_dict:\n",
    "                freq_dict[word]+=1\n",
    "            else:\n",
    "                freq_dict[word]=1\n",
    "            temp={'doc_id':i,'freq_dict':freq_dict}\n",
    "        freqDict_list.append(temp)\n",
    "    return freqDict_list"
   ]
  },
  {
   "cell_type": "code",
   "execution_count": 95,
   "metadata": {},
   "outputs": [],
   "source": [
    "def computeTF(doc_info,freqDict_List):\n",
    "    TF_scores=[]\n",
    "    for tempDict in freqDict_list:\n",
    "        id= tempDict['doc_id']\n",
    "        for k in tempDict['freq_dict']:\n",
    "            temp={'doc_id':id,'TF_score':tempDict['freq_dict'][k]/doc_info[id-1]['doc_length'],'key':k}\n",
    "            TF_scores.append(temp)\n",
    "        return TF_scores"
   ]
  },
  {
   "cell_type": "code",
   "execution_count": 96,
   "metadata": {},
   "outputs": [],
   "source": [
    "def computeIDF(doc_info,freqDict_list):\n",
    "    IDF_scores=[]\n",
    "    counter=0\n",
    "    for dict in freqDict_list:\n",
    "        counter+=1\n",
    "        for k in dict['freq_dict'].keys():\n",
    "            count=sum([k in tempDict['freq_dict'] for tempDict in freqDict_list])\n",
    "            temp={'doc_id':counter,'IDF_score' :math.log(len(doc_info)/count),'key':k}\n",
    "            IDF_scores.append(temp)\n",
    "        return IDF_scores"
   ]
  },
  {
   "cell_type": "code",
   "execution_count": 97,
   "metadata": {},
   "outputs": [],
   "source": [
    "def computeTFIDF(TF_scores,IDF_scores):\n",
    "    TFIDF_scores=[]\n",
    "    for j in IDF_scores:\n",
    "        for i in TF_scores:\n",
    "            if j['key']==i['key'] and j['doc_id']==i['doc_id']:\n",
    "                temp={'doc_id':j['doc_id'],'TFIDF_score':j['IDF_score']*i['TF_score'],'key':i['key']}\n",
    "        TFIDF_scores.append(temp)\n",
    "    return TFIDF_scores"
   ]
  },
  {
   "cell_type": "code",
   "execution_count": 98,
   "metadata": {},
   "outputs": [
    {
     "name": "stdout",
     "output_type": "stream",
     "text": [
      "['A Boeing 737 MAX aircraft operated by Southwest Airlines made an emergency landing on Tuesday after experiencing an engine problem as it was being ferried from Florida to California the US Federal Aviation Agency said', 'The aircraft returned and landed safely in Orlando the FAA said in a statement adding that no passengers were on board the aircraft which was being transferred to Victorville California for storage', 'The FAA is investigating added the agency which grounded the Boeing 737 MAX on March 13 following two deadly accidents involving Ethiopian Airlines and Lion Air but continues to allow the planes to be ferried from airport to airport', 'Southwest said the plane experienced an engine problem shortly after takeoff', 'The crew followed protocol and safely landed back at the airport around 300 pm 1900 GMT spokesman Chris Mainz said', 'The Boeing 737 MAX 8 will be moved to our Orlando maintenance facility for a review', 'It was the latest setback for Boeings flagship narrowbody plane following Octobers Lion Air crash and the Ethiopian Airlines accident earlier this month which together killed 346 people', 'The accidents which shared similarities led authorities across the world to ground the aircraft', 'Boeing has since conducted test flights of its 737 MAX to evaluate a fix for the MCAS stall prevention system targeted as a potential cause for the deadly crashes two sources familiar with the matter said', 'The system has been criticized since it can malfunction and make it difficult for pilots to control the aircraft', 'Both of the recent crashes occurred moments after takeoff', 'A Senate Commerce Committee panel will hold a hearing Wednesday to question FAA Acting Administration Daniel Elwell and Transportation Department Inspector General Calvin Scovel The officials are expected to face questions from lawmakers on the FAAs certification of the 737 MAX and whether regulators have become too cozy with the company and fasttracked some approvals', 'The session is expected to be followed by a second hearing at a later date with Boeing airline pilots and other stakeholders the committee said']\n"
     ]
    }
   ],
   "source": [
    "text_sents=sent_tokenize(text)\n",
    "sent=[remove_string_special_character(s) for s in text_sents]\n",
    "print(sent)\n",
    "doc_info=get_doc(sent)"
   ]
  },
  {
   "cell_type": "code",
   "execution_count": 99,
   "metadata": {},
   "outputs": [],
   "source": [
    "freqDict_list=create_freq_dict(sent)\n",
    "TF_scores=computeTF(doc_info,freqDict_list)\n",
    "IDF_scores=computeIDF(doc_info,freqDict_list)"
   ]
  },
  {
   "cell_type": "code",
   "execution_count": null,
   "metadata": {},
   "outputs": [],
   "source": [
    "print(TF_scores)"
   ]
  },
  {
   "cell_type": "code",
   "execution_count": null,
   "metadata": {},
   "outputs": [],
   "source": [
    "prit"
   ]
  },
  {
   "cell_type": "code",
   "execution_count": 100,
   "metadata": {},
   "outputs": [],
   "source": [
    "TFIDF_scores=computeTFIDF(TF_scores,IDF_scores)"
   ]
  },
  {
   "cell_type": "code",
   "execution_count": 101,
   "metadata": {},
   "outputs": [],
   "source": [
    "def get_sent_score(TFIDF_scores,sent,doc_info):\n",
    "    sent_info=[]\n",
    "    for doc in doc_info:\n",
    "        sent_score=0\n",
    "        for i in range(0,len(TFIDF_scores)):\n",
    "            temp_dict=TFIDF_scores[i]\n",
    "            if doc['doc_id']== temp_dict['doc_id']:\n",
    "                sent_score+=temp_dict['TFIDF_score']\n",
    "        temp={'doc_id':doc['doc_id'],'sent_score':sent_score,'sentence': sent[doc['doc_id']-1]}\n",
    "        sent_info.append(temp)\n",
    "    return sent_info"
   ]
  },
  {
   "cell_type": "code",
   "execution_count": 106,
   "metadata": {},
   "outputs": [],
   "source": [
    "sentence_info=get_sent_score(TFIDF_scores,sent,doc_info)"
   ]
  },
  {
   "cell_type": "code",
   "execution_count": 103,
   "metadata": {},
   "outputs": [],
   "source": [
    "def get_summary(sentence_info):\n",
    "    sum=0\n",
    "    summary=[]\n",
    "    array=[]\n",
    "    for temp in sentence_info:\n",
    "        sum+=temp['sent_score']\n",
    "    avg=sum/len(sentence_info)\n",
    "    for temp in sentence_info:\n",
    "        array.append(temp['sent_score'])\n",
    "    #stdev=statistics.stdev(array)\n",
    "    for sent in sentence_info:\n",
    "        if(sent['sent_score'])>=avg:\n",
    "            summary.append(sent['sentence'])\n",
    "    summary='\\n'.join(summary)\n",
    "    return summary\n",
    "    "
   ]
  },
  {
   "cell_type": "code",
   "execution_count": 104,
   "metadata": {},
   "outputs": [
    {
     "name": "stdout",
     "output_type": "stream",
     "text": [
      "A Boeing 737 MAX aircraft operated by Southwest Airlines made an emergency landing on Tuesday after experiencing an engine problem as it was being ferried from Florida to California the US Federal Aviation Agency said\n"
     ]
    }
   ],
   "source": [
    "summary =get_summary(sentence_info)\n",
    "print(summary)"
   ]
  },
  {
   "cell_type": "code",
   "execution_count": null,
   "metadata": {},
   "outputs": [],
   "source": []
  }
 ],
 "metadata": {
  "kernelspec": {
   "display_name": "Python 3",
   "language": "python",
   "name": "python3"
  },
  "language_info": {
   "codemirror_mode": {
    "name": "ipython",
    "version": 3
   },
   "file_extension": ".py",
   "mimetype": "text/x-python",
   "name": "python",
   "nbconvert_exporter": "python",
   "pygments_lexer": "ipython3",
   "version": "3.7.0"
  }
 },
 "nbformat": 4,
 "nbformat_minor": 2
}
