{
 "cells": [
  {
   "cell_type": "code",
   "execution_count": 1,
   "metadata": {},
   "outputs": [],
   "source": [
    "import numpy as np\n",
    "import pandas as pd\n",
    "from nltk.corpus import stopwords\n",
    "from nltk.tokenize import word_tokenize\n",
    "from sklearn.feature_extraction.text import CountVectorizer\n",
    "import re\n",
    "import string\n",
    "import matplotlib.pyplot as plt\n",
    "\n",
    "from nltk.stem import WordNetLemmatizer \n",
    "lemmatizer = WordNetLemmatizer() \n",
    "from nltk.stem.porter import PorterStemmer\n",
    "porter_stemmer = PorterStemmer()"
   ]
  },
  {
   "cell_type": "code",
   "execution_count": 2,
   "metadata": {},
   "outputs": [],
   "source": [
    "train_data=\"\"\"A Boeing 737 MAX aircraft operated by Southwest Airlines made an emergency landing on Tuesday after experiencing an engine problem as it was being ferried from Florida to California, the US Federal Aviation Agency said. \"The aircraft returned and landed safely in Orlando,\" the FAA said in a statement, adding that no passengers were on board the aircraft, which was being transferred to Victorville, California for storage. \"The FAA is investigating,\" added the agency, which grounded the Boeing 737 MAX on March 13 following two deadly accidents involving Ethiopian Airlines and Lion Air but continues to allow the planes to be ferried from airport to airport. Southwest said the plane experienced an engine problem \"shortly after takeoff.\" \"The crew followed protocol and safely landed back at the airport\" around 3:00 pm (1900 GMT), spokesman Chris Mainz said. \"The Boeing 737 MAX 8 will be moved to our Orlando maintenance facility for a review.\" It was the latest setback for Boeing's flagship narrow-body plane following October's Lion Air crash and the Ethiopian Airlines accident earlier this month, which together killed 346 people. The accidents, which shared similarities, led authorities across the world to ground the aircraft. Boeing has since conducted test flights of its 737 MAX to evaluate a fix for the MCAS stall prevention system targeted as a potential cause for the deadly crashes, two sources familiar with the matter said. The system has been criticized since it can malfunction and make it difficult for pilots to control the aircraft. Both of the recent crashes occurred moments after takeoff. A Senate Commerce Committee panel will hold a hearing Wednesday to question FAA Acting Administration Daniel Elwell and Transportation Department Inspector General Calvin Scovel The officials are expected to face questions from lawmakers on the FAA's certification of the 737 MAX and whether regulators have become too cozy with the company, and fast-tracked some approvals. The session is expected to be followed by a second hearing at a later date with Boeing, airline pilots and other stakeholders, the committee said.\"\"\" \n",
    "train_data=train_data.replace('!','.')\n",
    "train_data=train_data.replace('?','.')\n",
    "\n",
    "\n",
    "\n"
   ]
  },
  {
   "cell_type": "code",
   "execution_count": 3,
   "metadata": {},
   "outputs": [],
   "source": [
    "split_data=train_data.split('.')\n",
    "\n",
    "#tokens=word_tokenize(train_data)\n",
    "stopWords=stopwords.words(\"english\")+list(string.punctuation)+['The','the',\"A\",\"a\",\"\\'\"]\n",
    "special_chars=[',','.','/','\"','?','!',';',',',',',\"'\",'\"']\n",
    "count_vect=CountVectorizer(input=tokens,lowercase=True,stop_words='english',min_df=2)\n",
    "for token in word_tokenize(train_data):\n",
    "    if token.lower() in stopWords:\n",
    "        tokens.remove(token)\n",
    "    if token=='the':\n",
    "        tokens.remove(token)\n",
    "for token in tokens:\n",
    "    if token in special_chars:\n",
    "        tokens.remove(token)\n",
    "\n",
    "tot_length=int(tokens.count(max(tokens,key=tokens.count)))\n",
    "weight={}\n",
    "weight_sent={}\n",
    "\n",
    "\n",
    "###remove redundant tokens\n",
    "def red_tokens(tokens):\n",
    "    tokens=list(set(tokens))\n",
    "        \n",
    "###calculation of the weights\n",
    "def calc_weights(tokens):\n",
    "    for token in tokens:\n",
    "        weight[token]=tokens.count(token)/tot_length\n"
   ]
  },
  {
   "cell_type": "code",
   "execution_count": 4,
   "metadata": {},
   "outputs": [],
   "source": [
    "red_tokens(tokens)\n",
    "calc_weights(tokens)"
   ]
  },
  {
   "cell_type": "code",
   "execution_count": 5,
   "metadata": {},
   "outputs": [],
   "source": [
    "count=0\n",
    "for sent in split_data:\n",
    "    count=0\n",
    "    split=sent.split(' ')\n",
    "    for word in split:\n",
    "        if word in tokens:\n",
    "            count=count+weight[word]\n",
    "    weight_sent[sent]=count\n",
    "        \n"
   ]
  },
  {
   "cell_type": "code",
   "execution_count": 6,
   "metadata": {},
   "outputs": [
    {
     "data": {
      "image/png": "[encoded data removed]",
      "text/plain": [
       "<Figure size 432x288 with 1 Axes>"
      ]
     },
     "metadata": {
      "needs_background": "light"
     },
     "output_type": "display_data"
    }
   ],
   "source": [
    "y_pos = np.arange(len(weight))\n",
    "performance=list(weight.values())\n",
    "\n",
    "weight_=sorted(weight,key=weight.get,reverse=True)\n",
    "weight_=weight_[0:5]\n",
    "weight_val=[]\n",
    "for i in weight_:\n",
    "    weight_val.append(weight[i])\n",
    "\n",
    "plt.bar(weight_, weight_val, align='center', alpha=0.5)\n",
    "plt.show()"
   ]
  },
  {
   "cell_type": "code",
   "execution_count": 7,
   "metadata": {},
   "outputs": [
    {
     "name": "stdout",
     "output_type": "stream",
     "text": [
      "[' \"The FAA is investigating,\" added the agency, which grounded the Boeing 737 MAX on March 13 following two deadly accidents involving Ethiopian Airlines and Lion Air but continues to allow the planes to be ferried from airport to airport', \" A Senate Commerce Committee panel will hold a hearing Wednesday to question FAA Acting Administration Daniel Elwell and Transportation Department Inspector General Calvin Scovel The officials are expected to face questions from lawmakers on the FAA's certification of the 737 MAX and whether regulators have become too cozy with the company, and fast-tracked some approvals\"]\n"
     ]
    }
   ],
   "source": [
    "weight_=sorted(weight_sent,key=weight_sent.get,reverse=True)\n",
    "weight_=weight_[0:2]\n",
    "weight_val=[]\n",
    "print(weight_)\n"
   ]
  },
  {
   "cell_type": "code",
   "execution_count": null,
   "metadata": {},
   "outputs": [],
   "source": []
  }
 ],
 "metadata": {
  "kernelspec": {
   "display_name": "Python 3",
   "language": "python",
   "name": "python3"
  },
  "language_info": {
   "codemirror_mode": {
    "name": "ipython",
    "version": 3
   },
   "file_extension": ".py",
   "mimetype": "text/x-python",
   "name": "python",
   "nbconvert_exporter": "python",
   "pygments_lexer": "ipython3",
   "version": "3.7.0"
  }
 },
 "nbformat": 4,
 "nbformat_minor": 2
}
