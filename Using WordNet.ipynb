{
 "cells": [
  {
   "cell_type": "code",
   "execution_count": 26,
   "metadata": {},
   "outputs": [],
   "source": [
    "import numpy as np\n",
    "import pandas as pd\n",
    "import re\n",
    "from nltk.corpus import wordnet\n",
    "from collections import OrderedDict\n",
    "import nltk\n",
    "import re\n",
    "from nltk.corpus import stopwords\n",
    "from nltk.tokenize import word_tokenize,sent_tokenize\n",
    "import math"
   ]
  },
  {
   "cell_type": "code",
   "execution_count": 27,
   "metadata": {},
   "outputs": [
    {
     "name": "stdout",
     "output_type": "stream",
     "text": [
      "[Synset('beauty.n.01'), Synset('smasher.n.02'), Synset('beauty.n.03')]\n"
     ]
    }
   ],
   "source": [
    "syn=wordnet.synsets(\"beauty\")\n",
    "print(syn)"
   ]
  },
  {
   "cell_type": "code",
   "execution_count": 28,
   "metadata": {},
   "outputs": [
    {
     "name": "stdout",
     "output_type": "stream",
     "text": [
      "beauty\n"
     ]
    }
   ],
   "source": [
    "print(syn[0].lemmas()[0].name())"
   ]
  },
  {
   "cell_type": "code",
   "execution_count": 29,
   "metadata": {},
   "outputs": [],
   "source": [
    "demo=[]\n",
    "for i in range(0,len(syn)):\n",
    "    demo.append(syn[i].lemmas()[0].name())"
   ]
  },
  {
   "cell_type": "code",
   "execution_count": 30,
   "metadata": {},
   "outputs": [
    {
     "name": "stdout",
     "output_type": "stream",
     "text": [
      "{1, 2, 3, 12}\n"
     ]
    }
   ],
   "source": [
    "print(set([1,2,12,12,12,3,1]))"
   ]
  },
  {
   "cell_type": "code",
   "execution_count": 31,
   "metadata": {},
   "outputs": [
    {
     "name": "stdout",
     "output_type": "stream",
     "text": [
      "[Synset('exist.v.01'), Synset('exist.v.02')]\n"
     ]
    }
   ],
   "source": [
    "set(demo)\n",
    "print(wordnet.synsets(\"exists\"))"
   ]
  },
  {
   "cell_type": "code",
   "execution_count": 32,
   "metadata": {},
   "outputs": [
    {
     "name": "stdout",
     "output_type": "stream",
     "text": [
      "{'people.': [], '737': [], 'continues': ['continue', 'continue', 'continue', 'proceed', 'retain', 'continue', 'continue', 'stay', 'cover', 'continue'], 'will': ['volition', 'will', 'will', 'will', 'will', 'bequeath'], 'narrow-body': ['narrowbody_aircraft'], 'this': [], 'back': ['back', 'rear', 'back', 'back', 'spinal_column', 'binding', 'back', 'back', 'back', 'back', 'back', 'second', 'back', 'back', 'back', 'bet_on', 'back', 'back', 'back', 'back', 'back', 'back', 'back', 'back', 'back', 'back', 'back', 'back'], 'face': ['face', 'expression', 'face', 'face', 'face', 'side', 'face', 'face', 'grimace', 'font', 'face', 'boldness', 'face', 'confront', 'confront', 'front', 'face', 'face', 'confront', 'face', 'face', 'face'], 'second': ['second', 'moment', 'second_base', 'moment', 'second', 'second', 'second', 'second', 'second_gear', 'irregular', 'second', 'second', 'second', 'second', 'second'], 'targeted': ['target'], 'regulators': ['regulator', 'regulator', 'governor'], 'later': ['later', 'late', 'late', 'belated', 'late', 'late', 'late', 'late', 'former', 'subsequently', 'by_and_by', 'later'], 'other': ['other', 'other', 'early', 'other'], 'test': ['trial', 'test', 'examination', 'test', 'test', 'test', 'test', 'screen', 'quiz', 'test', 'test', 'test', 'test'], 'to': [], 'moments': ['moment', 'moment', 'here_and_now', 'consequence', 'moment', 'moment'], 'too': ['excessively', 'besides'], 'airline': ['airline', 'airline'], 'an': ['Associate_in_Nursing'], 'planes': ['airplane', 'plane', 'plane', 'plane', 'plane', 'plane', 'plane', 'plane', 'plan', 'plan', 'plan', 'design'], 'the': [], 'A': ['angstrom', 'vitamin_A', 'deoxyadenosine_monophosphate', 'adenine', 'ampere', 'A', 'A'], 'ferried': ['ferry', 'ferry', 'ferry'], 'protocol': ['protocol', 'protocol', 'protocol'], 'recent': ['Holocene', 'recent', 'late'], 'airport\"': [], '8': ['eight', 'eight'], 'aircraft': ['aircraft'], 'deadly': ['deadly', 'deadly', 'deadly', 'deadly', 'baneful', 'deadly', 'deadly', 'madly'], 'cause': ['cause', 'cause', 'campaign', 'causal_agent', 'lawsuit', 'cause', 'induce'], 'maintenance': ['care', 'maintenance', 'alimony', 'sustenance', 'maintenance'], 'MCAS': [], 'its': ['information_technology'], 'investigating,\"': [], 'month,': [], 'difficult': ['difficult', 'unmanageable'], 'since': [], 'with': [], 'grounded': ['anchor', 'ground', 'ground', 'ground', 'ground', 'ground', 'ground', 'ground', 'ground', 'prime', 'ground', 'establish'], 'malfunction': ['malfunction', 'malfunction'], 'plane': ['airplane', 'plane', 'plane', 'plane', 'plane', 'plane', 'plane', 'plane', 'flat'], 'can': ['can', 'can', 'can', 'buttocks', 'toilet', 'toilet', 'can', 'displace'], 'pilots': ['pilot', 'pilot', 'pilot_program', 'original', 'pilot_burner', 'fender', 'fly', 'navigate'], 'two': ['two', 'deuce', 'two'], 'Administration': ['administration', 'administration', 'administration', 'presidency', 'government', 'administration'], 'around': ['about', 'around', 'about', 'around', 'approximately', 'about', 'around', 'about', 'around', 'round'], 'similarities,': [], 'takeoff.\"': [], 'are': ['are', 'be', 'be', 'be', 'exist', 'be', 'equal', 'constitute', 'be', 'embody', 'be', 'be', 'be', 'cost'], 'company,': [], 'make': ['brand', 'shuffle', 'make', 'make', 'make', 'induce', 'cause', 'produce', 'draw', 'make', 'create', 'gain', 'do', 'form', 'reach', 'make', 'make', 'make', 'construct', 'make', 'make', 'name', 'have', 'reach', 'lay_down', 'make', 'make', 'hold', 'make', 'take', 'stool', 'make', 'make', 'make', 'make', 'make', 'make', 'make', 'make', 'make', 'cook', 'seduce', 'make', 'make', 'make', 'make', 'make', 'make', 'make', 'make', 'make'], 'whether': [], 'evaluate': ['measure', 'evaluate'], 'takeoff.': [], 'Both': ['both'], 'made': ['make', 'make', 'make', 'induce', 'cause', 'produce', 'draw', 'make', 'create', 'gain', 'do', 'form', 'reach', 'make', 'make', 'make', 'construct', 'make', 'make', 'name', 'have', 'reach', 'lay_down', 'make', 'make', 'hold', 'make', 'take', 'stool', 'make', 'make', 'make', 'make', 'make', 'make', 'make', 'make', 'make', 'cook', 'seduce', 'make', 'make', 'make', 'make', 'make', 'make', 'make', 'make', 'make', 'made', 'made', 'made'], 'accidents': ['accident', 'accident'], 'after': ['after', 'subsequently', 'after'], 'Senate': ['senate', 'United_States_Senate'], 'questions': ['question', 'question', 'question', 'doubt', 'motion', 'question', 'question', 'interrogate', 'question', 'interview', 'wonder'], 'lawmakers': ['lawgiver'], 'been': ['be', 'be', 'be', 'exist', 'be', 'equal', 'constitute', 'be', 'embody', 'be', 'be', 'be', 'cost'], 'landed': ['land', 'land', 'bring', 'land', 'land', 'land', 'down', 'landed'], 'that': [], 'crash': ['clang', 'crash', 'crash', 'crash', 'crash', 'crash', 'crash', 'crash', 'crash', 'crash', 'crash', 'crash', 'barge_in', 'crash', 'crash', 'crash', 'crash', 'doss'], 'transferred': ['transfer', 'transfer', 'transplant', 'transfer', 'transfer', 'transfer', 'transmit', 'remove', 'transfer'], 'Lion': ['lion', 'lion', 'Leo', 'Leo'], 'Boeing,': [], 'returned': ['return', 'render', 'revert', 'hark_back', 'return', 'return', 'return', 'retort', 'come_back', 'refund', 'render', 'reelect', 'fall', 'return', 'render', 'return'], 'certification': ['certification', 'documentation', 'certificate', 'authentication'], 'on': ['on', 'on', 'along', 'on', 'on'], 'Orlando,\"': [], 'hold': ['clasp', 'appreciation', 'hold', 'delay', 'detention', 'hold', 'hold', 'handle', 'cargo_area', 'keep', 'hold', 'hold', 'have', 'deem', 'harbor', 'restrain', 'retain', 'bear', 'hold', 'hold', 'accommodate', 'hold', 'hold', 'prevail', 'hold', 'hold', 'contain', 'reserve', 'defend', 'oblige', 'hold', 'hold', 'defy', 'apply', 'hold', 'control', 'hold', 'hold', 'halt', 'hold', 'carry', 'hold', 'declare', 'agree', 'hold'], 'MAX': ['soap'], 'across': ['across', 'across'], 'accident': ['accident', 'accident'], 'experiencing': ['experience', 'know', 'experience', 'feel', 'have'], 'board': ['board', 'board', 'board', 'board', 'display_panel', 'dining_table', 'control_panel', 'circuit_board', 'board', 'board', 'board', 'board', 'board'], 'Air': ['air', 'air', 'air', 'breeze', 'atmosphere', 'air', 'tune', 'air', 'air_travel', 'air_out', 'air', 'air', 'publicize', 'air', 'vent'], 'Federal': ['Federal', 'Federal', 'federal', 'federal', 'Union', 'federal'], 'flagship': ['flagship', 'flagship'], 'agency,': [], 'General': ['general', 'general', 'general', 'general', 'general', 'general', 'general', 'general', 'general', 'cosmopolitan'], '3:00': [], 'California': ['California'], 'led': ['light-emitting_diode', 'lead', 'leave', 'lead', 'lead', 'lead', 'run', 'head', 'lead', 'contribute', 'conduct', 'go', 'precede', 'run', 'moderate'], 'GMT),': [], 'was': ['Washington', 'be', 'be', 'be', 'exist', 'be', 'equal', 'constitute', 'be', 'embody', 'be', 'be', 'be', 'cost'], 'FAA': ['Federal_Aviation_Agency'], 'said': ['state', 'allege', 'suppose', 'read', 'order', 'pronounce', 'say', 'say', 'say', 'say', 'say', 'aforesaid'], 'crashes': ['clang', 'crash', 'crash', 'crash', 'crash', 'crash', 'crash', 'crash', 'crash', 'crash', 'crash', 'crash', 'barge_in', 'crash', 'crash', 'crash', 'crash', 'doss'], 'Department': ['department', 'department', 'department'], 'pm': ['autopsy', 'promethium', 'Prime_Minister', 'phase_modulation'], 'March': ['March', 'march', 'march', 'march', 'borderland', 'marching_music', 'Master_of_Architecture', 'march', 'march', 'march', 'demonstrate', 'parade', 'march', 'border'], 'Calvin': ['Calvin', 'Calvin'], 'which': [], 'for': [], 'control': ['control', 'control', 'control', 'control_condition', 'control', 'dominance', 'restraint', 'command', 'control', 'control', 'control', 'control', 'control', 'operate', 'manipulate', 'control', 'control', 'see', 'master'], 'at': ['astatine', 'at'], 'Chris': [], 'officials': ['official', 'official'], 'and': [], 'be': ['beryllium', 'be', 'be', 'be', 'exist', 'be', 'equal', 'constitute', 'be', 'embody', 'be', 'be', 'be', 'cost'], 'sources': ['beginning', 'source', 'source', 'source', 'informant', 'generator', 'source', 'reservoir', 'reference', 'source', 'source'], 'moved': ['travel', 'move', 'move', 'move', 'go', 'be_active', 'move', 'act', 'affect', 'motivate', 'move', 'move', 'move', 'move', 'move', 'move', 'moved'], 'approvals.': [], 'landing': ['landing', 'landing', 'landing', 'landing', 'land', 'land', 'bring', 'land', 'land', 'land', 'down'], 'Ethiopian': ['Ethiopian', 'Ethiopian'], 'experienced': ['experience', 'know', 'experience', 'feel', 'have', 'experienced'], 'followed': ['follow', 'postdate', 'follow', 'follow', 'comply', 'follow', 'follow', 'follow', 'adopt', 'follow', 'take_after', 'trace', 'watch', 'succeed', 'play_along', 'keep_up', 'come', 'follow', 'follow', 'be', 'surveil', 'pursue', 'follow', 'stick_to'], 'emergency': ['emergency', 'emergency', 'hand_brake'], 'of': [], 'airport.': [], 'become': ['become', 'become', 'become', 'become'], \"FAA's\": [], 'setback': ['reverse'], 'Tuesday': ['Tuesday'], 'in': ['inch', 'indium', 'Indiana', 'in', 'in', 'in', 'in'], 'operated': ['operate', 'function', 'operate', 'manoeuver', 'operate', 'engage', 'operate_on'], '13': ['thirteen', 'thirteen'], 'accidents,': [], 'Aviation': ['aviation', 'aviation', 'aviation', 'air_travel'], 'passengers': ['passenger'], 'cozy': ['cosy', 'cozy', 'cozy', 'cozy'], 'fast-tracked': [], 'panel': ['panel', 'jury', 'panel', 'panel', 'panel', 'gore', 'dialog_box', 'control_panel', 'panel', 'empanel'], 'a': ['angstrom', 'vitamin_A', 'deoxyadenosine_monophosphate', 'adenine', 'ampere', 'A', 'A'], 'aircraft,': [], 'Scovel': [], 'hearing': ['hearing', 'hearing', 'earshot', 'listening', 'hearing', 'hearing', 'hear', 'learn', 'hear', 'hear', 'listen', 'hearing'], 'ground': ['land', 'reason', 'earth', 'footing', 'ground', 'background', 'land', 'ground', 'ground', 'ground', 'flat_coat', 'anchor', 'ground', 'ground', 'ground', 'ground', 'ground', 'ground', 'ground', 'ground', 'prime', 'ground', 'establish', 'crunch', 'grate', 'labor', 'grind', 'grind', 'grind', 'grind'], 'world': ['universe', 'world', 'world', 'Earth', 'populace', 'world', 'worldly_concern', 'world', 'global'], 'stall': ['stall', 'booth', 'stall', 'stall', 'stall', 'carrel', 'stall', 'procrastinate', 'stall', 'stall', 'stall', 'stall', 'stall', 'stall'], 'shared': ['share', 'share', 'partake', 'share', 'share', 'shared', 'divided'], 'have': ['rich_person', 'have', 'have', 'experience', 'own', 'get', 'consume', 'have', 'hold', 'have', 'have', 'have', 'have', 'induce', 'accept', 'receive', 'suffer', 'have', 'give_birth', 'take'], 'Victorville,': [], 'said.': [], 'safely': ['safely'], 'review.\"': [], 'It': ['information_technology'], 'authorities': ['government', 'authority', 'authority', 'authority', 'assurance', 'agency', 'authority', 'authority'], 'adding': ['add', 'add', 'lend', 'add', 'total', 'add'], 'Daniel': ['Daniel', 'Daniel', 'Daniel'], 'being': ['being', 'organism', 'be', 'be', 'be', 'exist', 'be', 'equal', 'constitute', 'be', 'embody', 'be', 'be', 'be', 'cost'], \"October's\": [], 'fix': ['fix', 'fix', 'repair', 'fix', 'localization', 'repair', 'fasten', 'specify', 'cook', 'pay_back', 'fix', 'fix', 'fixate', 'sterilize', 'fix', 'situate', 'fix'], '(1900': [], 'date': ['date', 'date', 'date', 'date', 'date', 'date', 'date', 'date', 'date', 'date', 'date', 'go_steady', 'date'], 'Inspector': ['inspector', 'examiner'], 'Mainz': [], 'committee': ['committee', 'committee'], 'aircraft.': [], 'Wednesday': ['Wednesday'], 'added': ['add', 'add', 'lend', 'add', 'total', 'add'], \"Boeing's\": [], 'Agency': ['agency', 'agency', 'agency', 'representation', 'means'], 'session': ['session', 'school_term', 'session', 'seance'], 'no': ['no', 'nobelium', 'no', 'no', 'no', 'no'], 'Boeing': [], 'US': ['United_States', 'uracil', 'uranium', 'U'], 'flights': ['flight', 'flight', 'flight', 'escape', 'flight', 'flight', 'trajectory', 'flight', 'flight', 'flight', 'flight', 'fledge'], 'Committee': ['committee', 'committee'], 'problem': ['problem', 'problem', 'trouble'], 'but': ['merely'], '\"shortly': [], 'it': ['information_technology'], 'our': [], 'stakeholders,': [], 'earlier': ['earlier', 'early', 'early', 'early', 'early', 'early', 'early', 'earlier', 'sooner', 'in_the_first_place'], 'California,': [], 'Elwell': [], 'statement,': [], 'Orlando': ['Orlando'], 'facility': ['facility', 'adeptness', 'facility', 'facility', 'facility'], 'were': ['be', 'be', 'be', 'exist', 'be', 'equal', 'constitute', 'be', 'embody', 'be', 'be', 'be', 'cost'], 'by': ['by', 'aside'], 'storage.': [], 'from': [], 'is': ['be', 'be', 'be', 'exist', 'be', 'equal', 'constitute', 'be', 'embody', 'be', 'be', 'be', 'cost'], 'latest': ['latest', 'up-to-the-minute', 'latest', 'late', 'belated', 'late', 'late', 'late', 'late', 'former'], 'matter': ['matter', 'topic', 'matter', 'matter', 'matter', 'matter', 'count'], 'as': ['arsenic', 'American_Samoa', 'angstrom', 'vitamin_A', 'deoxyadenosine_monophosphate', 'adenine', 'ampere', 'A', 'A', 'equally'], 'killed': ['kill', 'kill', 'stamp_out', 'kill', 'kill', 'kill', 'kill', 'kill', 'kill', 'kill', 'toss_off', 'kill', 'kill', 'kill', 'kill'], 'spokesman': ['spokesman'], '346': [], 'allow': ['let', 'permit', 'allow', 'allow', 'leave', 'allow', 'admit', 'give_up', 'allow', 'allow'], 'potential': ['potential', 'electric_potential', 'potential', 'likely'], 'Florida': ['Florida'], 'question': ['question', 'question', 'question', 'doubt', 'motion', 'question', 'question', 'interrogate', 'question', 'interview', 'wonder'], 'Commerce': ['commerce', 'Department_of_Commerce', 'commerce'], 'involving': ['involve', 'involve', 'imply', 'necessitate', 'involve', 'involve', 'involve'], 'prevention': ['prevention'], 'Transportation': ['transportation_system', 'transportation', 'fare', 'Department_of_Transportation', 'transportation', 'exile'], 'expected': ['expect', 'ask', 'expect', 'expect', 'expect', 'have_a_bun_in_the_oven', 'expected'], 'following': ['following', 'pursuit', 'follow', 'postdate', 'follow', 'follow', 'comply', 'follow', 'follow', 'follow', 'adopt', 'follow', 'take_after', 'trace', 'watch', 'succeed', 'play_along', 'keep_up', 'come', 'follow', 'follow', 'be', 'surveil', 'pursue', 'follow', 'stick_to', 'following', 'following', 'following', 'following'], 'crashes,': [], 'criticized': ['knock', 'criticize'], 'conducted': ['conduct', 'conduct', 'behave', 'lead', 'impart', 'conduct'], 'engine': ['engine', 'engine', 'locomotive', 'engine'], 'crew': ['crew', 'gang', 'crowd', 'crew', 'crew'], 'Airlines': ['airline', 'airline'], 'airport': ['airport'], 'The': [], 'has': ['hour_angle', 'have', 'have', 'experience', 'own', 'get', 'consume', 'have', 'hold', 'have', 'have', 'have', 'have', 'induce', 'accept', 'receive', 'suffer', 'have', 'give_birth', 'take'], 'together': ['together', 'together', 'together', 'together', 'together', 'together', 'in_concert'], 'Acting': ['acting', 'act', 'act', 'act', 'act', 'act', 'act', 'work', 'act', 'dissemble', 'act', 'acting'], 'occurred': ['happen', 'occur', 'occur'], 'system': ['system', 'system', 'system', 'system', 'arrangement', 'system', 'system', 'system', 'organization'], 'some': ['some', 'some', 'some', 'some', 'approximately'], '\"The': [], 'familiar': ['familiar', 'companion', 'familiar', 'familiar', 'familiar', 'conversant', 'familiar'], 'Southwest': ['southwest', 'Southwest', 'southwest', 'southwest', 'southwesterly', 'southwest', 'southwest']}\n"
     ]
    }
   ],
   "source": [
    "stripped='''A Boeing 737 MAX aircraft operated by Southwest Airlines made an emergency landing on Tuesday after experiencing an engine problem as it was being ferried from Florida to California, the US Federal Aviation Agency said. \"The aircraft returned and landed safely in Orlando,\" the FAA said in a statement, adding that no passengers were on board the aircraft, which was being transferred to Victorville, California for storage. \"The FAA is investigating,\" added the agency, which grounded the Boeing 737 MAX on March 13 following two deadly accidents involving Ethiopian Airlines and Lion Air but continues to allow the planes to be ferried from airport to airport. Southwest said the plane experienced an engine problem \"shortly after takeoff.\" \"The crew followed protocol and safely landed back at the airport\" around 3:00 pm (1900 GMT), spokesman Chris Mainz said. \"The Boeing 737 MAX 8 will be moved to our Orlando maintenance facility for a review.\" It was the latest setback for Boeing's flagship narrow-body plane following October's Lion Air crash and the Ethiopian Airlines accident earlier this month, which together killed 346 people. The accidents, which shared similarities, led authorities across the world to ground the aircraft. Boeing has since conducted test flights of its 737 MAX to evaluate a fix for the MCAS stall prevention system targeted as a potential cause for the deadly crashes, two sources familiar with the matter said. The system has been criticized since it can malfunction and make it difficult for pilots to control the aircraft. Both of the recent crashes occurred moments after takeoff. A Senate Commerce Committee panel will hold a hearing Wednesday to question FAA Acting Administration Daniel Elwell and Transportation Department Inspector General Calvin Scovel The officials are expected to face questions from lawmakers on the FAA's certification of the 737 MAX and whether regulators have become too cozy with the company, and fast-tracked some approvals. The session is expected to be followed by a second hearing at a later date with Boeing, airline pilots and other stakeholders, the committee said.'''\n",
    "demo=[]\n",
    "word_dict={}\n",
    "#stripped=re.sub('[^\\w\\s]','',s)\n",
    "#stripped=re.sub('_','',stripped)\n",
    "#stripped=re.sub('\\s+',' ',stripped)\n",
    "stripped_new=stripped\n",
    "stripped=list(set(stripped.split()))\n",
    "#print(stripped_new)\n",
    "temp=list(dict.fromkeys(stripped))\n",
    "#print(\"this is temp\",temp,\" this is stripped\",stripped)\n",
    "#for i in stripped:\n",
    " #   print(i)\n",
    "for i in stripped:\n",
    "    syn=wordnet.synsets(i)\n",
    "    demo=[]\n",
    "    for j in range(0,len(syn)):\n",
    "        demo.append(syn[j].lemmas()[0].name())\n",
    "    word_dict[i]=demo\n",
    "print(word_dict)\n",
    "#for i in word_dict.keys():\n",
    " #   word_dict[i]=list(set(word_dict[i]))\n",
    "#for i in word_dict.keys():\n",
    " #   print(i,\":\",word_dict[i])"
   ]
  },
  {
   "cell_type": "code",
   "execution_count": 33,
   "metadata": {
    "scrolled": true
   },
   "outputs": [
    {
     "name": "stdout",
     "output_type": "stream",
     "text": [
      "A Boeing 737 MAX aircraft operated by Southwest Airlines made an emergency landing on Tuesday after experiencing an engine problem as it was being ferried from Florida to California, the US Federal Aviation Agency said. \"The aircraft returned and landed safely in Orlando,\" the FAA said in a statement, adding that no passengers were on board the aircraft, which was being transferred to Victorville, California for storage. \"The FAA is investigating,\" added the agency, which grounded the Boeing 737 MAX on March 13 following two deadly accidents involving Ethiopian Airlines and Lion Air but continues to allow the planes to be ferried from airport to airport. Southwest said the plane experienced an engine problem \"shortly after takeoff.\" \"The crew followed protocol and safely landed back at the airport\" around 3:00 pm (1900 GMT), spokesman Chris Mainz said. \"The Boeing 737 MAX 8 will be moved to our Orlando maintenance facility for a review.\" It was the latest setback for Boeing's flagship narrow-body plane following October's Lion Air crash and the Ethiopian Airlines accident earlier this month, which together killed 346 people. The accidents, which shared similarities, led authorities across the world to ground the aircraft. Boeing has since conducted test flights of its 737 MAX to evaluate a fix for the MCAS stall prevention system targeted as a potential cause for the deadly crashes, two sources familiar with the matter said. The system has been criticized since it can malfunction and make it difficult for pilots to control the aircraft. Both of the recent crashes occurred moments after takeoff. A Senate Commerce Committee panel will hold a hearing Wednesday to question FAA Acting Administration Daniel Elwell and Transportation Department Inspector General Calvin Scovel The officials are expected to face questions from lawmakers on the FAA's certification of the 737 MAX and whether regulators have become too cozy with the company, and fast-tracked some approvals. The session is expected to be followed by a second hearing at a later date with Boeing, airline pilots and other stakeholders, the committee said.\n",
      "{'people.': [], '737': [], 'continues': ['continue', 'continue', 'continue', 'proceed', 'retain', 'continue', 'continue', 'stay', 'cover', 'continue'], 'will': ['volition', 'will', 'will', 'will', 'will', 'bequeath'], 'narrow-body': ['narrowbody_aircraft'], 'this': [], 'back': ['back', 'rear', 'back', 'back', 'spinal_column', 'binding', 'back', 'back', 'back', 'back', 'back', 'second', 'back', 'back', 'back', 'bet_on', 'back', 'back', 'back', 'back', 'back', 'back', 'back', 'back', 'back', 'back', 'back', 'back'], 'face': ['face', 'expression', 'face', 'face', 'face', 'side', 'face', 'face', 'grimace', 'font', 'face', 'boldness', 'face', 'confront', 'confront', 'front', 'face', 'face', 'confront', 'face', 'face', 'face'], 'second': ['second', 'moment', 'second_base', 'moment', 'second', 'second', 'second', 'second', 'second_gear', 'irregular', 'second', 'second', 'second', 'second', 'second'], 'targeted': ['target'], 'regulators': ['regulator', 'regulator', 'governor'], 'later': ['later', 'late', 'late', 'belated', 'late', 'late', 'late', 'late', 'former', 'subsequently', 'by_and_by', 'later'], 'other': ['other', 'other', 'early', 'other'], 'test': ['trial', 'test', 'examination', 'test', 'test', 'test', 'test', 'screen', 'quiz', 'test', 'test', 'test', 'test'], 'to': [], 'moments': ['moment', 'moment', 'here_and_now', 'consequence', 'moment', 'moment'], 'too': ['excessively', 'besides'], 'airline': ['airline', 'airline'], 'an': ['Associate_in_Nursing'], 'planes': ['airplane', 'plane', 'plane', 'plane', 'plane', 'plane', 'plane', 'plane', 'plan', 'plan', 'plan', 'design'], 'the': [], 'A': ['angstrom', 'vitamin_A', 'deoxyadenosine_monophosphate', 'adenine', 'ampere', 'A', 'A'], 'ferried': ['ferry', 'ferry', 'ferry'], 'protocol': ['protocol', 'protocol', 'protocol'], 'recent': ['Holocene', 'recent', 'late'], 'airport\"': [], '8': ['eight', 'eight'], 'aircraft': ['aircraft'], 'deadly': ['deadly', 'deadly', 'deadly', 'deadly', 'baneful', 'deadly', 'deadly', 'madly'], 'cause': ['cause', 'cause', 'campaign', 'causal_agent', 'lawsuit', 'cause', 'induce'], 'maintenance': ['care', 'maintenance', 'alimony', 'sustenance', 'maintenance'], 'MCAS': [], 'its': ['information_technology'], 'investigating,\"': [], 'month,': [], 'difficult': ['difficult', 'unmanageable'], 'since': [], 'with': [], 'grounded': ['anchor', 'ground', 'ground', 'ground', 'ground', 'ground', 'ground', 'ground', 'ground', 'prime', 'ground', 'establish'], 'malfunction': ['malfunction', 'malfunction'], 'plane': ['airplane', 'plane', 'plane', 'plane', 'plane', 'plane', 'plane', 'plane', 'flat'], 'can': ['can', 'can', 'can', 'buttocks', 'toilet', 'toilet', 'can', 'displace'], 'pilots': ['pilot', 'pilot', 'pilot_program', 'original', 'pilot_burner', 'fender', 'fly', 'navigate'], 'two': ['two', 'deuce', 'two'], 'Administration': ['administration', 'administration', 'administration', 'presidency', 'government', 'administration'], 'around': ['about', 'around', 'about', 'around', 'approximately', 'about', 'around', 'about', 'around', 'round'], 'similarities,': [], 'takeoff.\"': [], 'are': ['are', 'be', 'be', 'be', 'exist', 'be', 'equal', 'constitute', 'be', 'embody', 'be', 'be', 'be', 'cost'], 'company,': [], 'make': ['brand', 'shuffle', 'make', 'make', 'make', 'induce', 'cause', 'produce', 'draw', 'make', 'create', 'gain', 'do', 'form', 'reach', 'make', 'make', 'make', 'construct', 'make', 'make', 'name', 'have', 'reach', 'lay_down', 'make', 'make', 'hold', 'make', 'take', 'stool', 'make', 'make', 'make', 'make', 'make', 'make', 'make', 'make', 'make', 'cook', 'seduce', 'make', 'make', 'make', 'make', 'make', 'make', 'make', 'make', 'make'], 'whether': [], 'evaluate': ['measure', 'evaluate'], 'takeoff.': [], 'Both': ['both'], 'made': ['make', 'make', 'make', 'induce', 'cause', 'produce', 'draw', 'make', 'create', 'gain', 'do', 'form', 'reach', 'make', 'make', 'make', 'construct', 'make', 'make', 'name', 'have', 'reach', 'lay_down', 'make', 'make', 'hold', 'make', 'take', 'stool', 'make', 'make', 'make', 'make', 'make', 'make', 'make', 'make', 'make', 'cook', 'seduce', 'make', 'make', 'make', 'make', 'make', 'make', 'make', 'make', 'make', 'made', 'made', 'made'], 'accidents': ['accident', 'accident'], 'after': ['after', 'subsequently', 'after'], 'Senate': ['senate', 'United_States_Senate'], 'questions': ['question', 'question', 'question', 'doubt', 'motion', 'question', 'question', 'interrogate', 'question', 'interview', 'wonder'], 'lawmakers': ['lawgiver'], 'been': ['be', 'be', 'be', 'exist', 'be', 'equal', 'constitute', 'be', 'embody', 'be', 'be', 'be', 'cost'], 'landed': ['land', 'land', 'bring', 'land', 'land', 'land', 'down', 'landed'], 'that': [], 'crash': ['clang', 'crash', 'crash', 'crash', 'crash', 'crash', 'crash', 'crash', 'crash', 'crash', 'crash', 'crash', 'barge_in', 'crash', 'crash', 'crash', 'crash', 'doss'], 'transferred': ['transfer', 'transfer', 'transplant', 'transfer', 'transfer', 'transfer', 'transmit', 'remove', 'transfer'], 'Lion': ['lion', 'lion', 'Leo', 'Leo'], 'Boeing,': [], 'returned': ['return', 'render', 'revert', 'hark_back', 'return', 'return', 'return', 'retort', 'come_back', 'refund', 'render', 'reelect', 'fall', 'return', 'render', 'return'], 'certification': ['certification', 'documentation', 'certificate', 'authentication'], 'on': ['on', 'on', 'along', 'on', 'on'], 'Orlando,\"': [], 'hold': ['clasp', 'appreciation', 'hold', 'delay', 'detention', 'hold', 'hold', 'handle', 'cargo_area', 'keep', 'hold', 'hold', 'have', 'deem', 'harbor', 'restrain', 'retain', 'bear', 'hold', 'hold', 'accommodate', 'hold', 'hold', 'prevail', 'hold', 'hold', 'contain', 'reserve', 'defend', 'oblige', 'hold', 'hold', 'defy', 'apply', 'hold', 'control', 'hold', 'hold', 'halt', 'hold', 'carry', 'hold', 'declare', 'agree', 'hold'], 'MAX': ['soap'], 'across': ['across', 'across'], 'accident': ['accident', 'accident'], 'experiencing': ['experience', 'know', 'experience', 'feel', 'have'], 'board': ['board', 'board', 'board', 'board', 'display_panel', 'dining_table', 'control_panel', 'circuit_board', 'board', 'board', 'board', 'board', 'board'], 'Air': ['air', 'air', 'air', 'breeze', 'atmosphere', 'air', 'tune', 'air', 'air_travel', 'air_out', 'air', 'air', 'publicize', 'air', 'vent'], 'Federal': ['Federal', 'Federal', 'federal', 'federal', 'Union', 'federal'], 'flagship': ['flagship', 'flagship'], 'agency,': [], 'General': ['general', 'general', 'general', 'general', 'general', 'general', 'general', 'general', 'general', 'cosmopolitan'], '3:00': [], 'California': ['California'], 'led': ['light-emitting_diode', 'lead', 'leave', 'lead', 'lead', 'lead', 'run', 'head', 'lead', 'contribute', 'conduct', 'go', 'precede', 'run', 'moderate'], 'GMT),': [], 'was': ['Washington', 'be', 'be', 'be', 'exist', 'be', 'equal', 'constitute', 'be', 'embody', 'be', 'be', 'be', 'cost'], 'FAA': ['Federal_Aviation_Agency'], 'said': ['state', 'allege', 'suppose', 'read', 'order', 'pronounce', 'say', 'say', 'say', 'say', 'say', 'aforesaid'], 'crashes': ['clang', 'crash', 'crash', 'crash', 'crash', 'crash', 'crash', 'crash', 'crash', 'crash', 'crash', 'crash', 'barge_in', 'crash', 'crash', 'crash', 'crash', 'doss'], 'Department': ['department', 'department', 'department'], 'pm': ['autopsy', 'promethium', 'Prime_Minister', 'phase_modulation'], 'March': ['March', 'march', 'march', 'march', 'borderland', 'marching_music', 'Master_of_Architecture', 'march', 'march', 'march', 'demonstrate', 'parade', 'march', 'border'], 'Calvin': ['Calvin', 'Calvin'], 'which': [], 'for': [], 'control': ['control', 'control', 'control', 'control_condition', 'control', 'dominance', 'restraint', 'command', 'control', 'control', 'control', 'control', 'control', 'operate', 'manipulate', 'control', 'control', 'see', 'master'], 'at': ['astatine', 'at'], 'Chris': [], 'officials': ['official', 'official'], 'and': [], 'be': ['beryllium', 'be', 'be', 'be', 'exist', 'be', 'equal', 'constitute', 'be', 'embody', 'be', 'be', 'be', 'cost'], 'sources': ['beginning', 'source', 'source', 'source', 'informant', 'generator', 'source', 'reservoir', 'reference', 'source', 'source'], 'moved': ['travel', 'move', 'move', 'move', 'go', 'be_active', 'move', 'act', 'affect', 'motivate', 'move', 'move', 'move', 'move', 'move', 'move', 'moved'], 'approvals.': [], 'landing': ['landing', 'landing', 'landing', 'landing', 'land', 'land', 'bring', 'land', 'land', 'land', 'down'], 'Ethiopian': ['Ethiopian', 'Ethiopian'], 'experienced': ['experience', 'know', 'experience', 'feel', 'have', 'experienced'], 'followed': ['follow', 'postdate', 'follow', 'follow', 'comply', 'follow', 'follow', 'follow', 'adopt', 'follow', 'take_after', 'trace', 'watch', 'succeed', 'play_along', 'keep_up', 'come', 'follow', 'follow', 'be', 'surveil', 'pursue', 'follow', 'stick_to'], 'emergency': ['emergency', 'emergency', 'hand_brake'], 'of': [], 'airport.': [], 'become': ['become', 'become', 'become', 'become'], \"FAA's\": [], 'setback': ['reverse'], 'Tuesday': ['Tuesday'], 'in': ['inch', 'indium', 'Indiana', 'in', 'in', 'in', 'in'], 'operated': ['operate', 'function', 'operate', 'manoeuver', 'operate', 'engage', 'operate_on'], '13': ['thirteen', 'thirteen'], 'accidents,': [], 'Aviation': ['aviation', 'aviation', 'aviation', 'air_travel'], 'passengers': ['passenger'], 'cozy': ['cosy', 'cozy', 'cozy', 'cozy'], 'fast-tracked': [], 'panel': ['panel', 'jury', 'panel', 'panel', 'panel', 'gore', 'dialog_box', 'control_panel', 'panel', 'empanel'], 'a': ['angstrom', 'vitamin_A', 'deoxyadenosine_monophosphate', 'adenine', 'ampere', 'A', 'A'], 'aircraft,': [], 'Scovel': [], 'hearing': ['hearing', 'hearing', 'earshot', 'listening', 'hearing', 'hearing', 'hear', 'learn', 'hear', 'hear', 'listen', 'hearing'], 'ground': ['land', 'reason', 'earth', 'footing', 'ground', 'background', 'land', 'ground', 'ground', 'ground', 'flat_coat', 'anchor', 'ground', 'ground', 'ground', 'ground', 'ground', 'ground', 'ground', 'ground', 'prime', 'ground', 'establish', 'crunch', 'grate', 'labor', 'grind', 'grind', 'grind', 'grind'], 'world': ['universe', 'world', 'world', 'Earth', 'populace', 'world', 'worldly_concern', 'world', 'global'], 'stall': ['stall', 'booth', 'stall', 'stall', 'stall', 'carrel', 'stall', 'procrastinate', 'stall', 'stall', 'stall', 'stall', 'stall', 'stall'], 'shared': ['share', 'share', 'partake', 'share', 'share', 'shared', 'divided'], 'have': ['rich_person', 'have', 'have', 'experience', 'own', 'get', 'consume', 'have', 'hold', 'have', 'have', 'have', 'have', 'induce', 'accept', 'receive', 'suffer', 'have', 'give_birth', 'take'], 'Victorville,': [], 'said.': [], 'safely': ['safely'], 'review.\"': [], 'It': ['information_technology'], 'authorities': ['government', 'authority', 'authority', 'authority', 'assurance', 'agency', 'authority', 'authority'], 'adding': ['add', 'add', 'lend', 'add', 'total', 'add'], 'Daniel': ['Daniel', 'Daniel', 'Daniel'], 'being': ['being', 'organism', 'be', 'be', 'be', 'exist', 'be', 'equal', 'constitute', 'be', 'embody', 'be', 'be', 'be', 'cost'], \"October's\": [], 'fix': ['fix', 'fix', 'repair', 'fix', 'localization', 'repair', 'fasten', 'specify', 'cook', 'pay_back', 'fix', 'fix', 'fixate', 'sterilize', 'fix', 'situate', 'fix'], '(1900': [], 'date': ['date', 'date', 'date', 'date', 'date', 'date', 'date', 'date', 'date', 'date', 'date', 'go_steady', 'date'], 'Inspector': ['inspector', 'examiner'], 'Mainz': [], 'committee': ['committee', 'committee'], 'aircraft.': [], 'Wednesday': ['Wednesday'], 'added': ['add', 'add', 'lend', 'add', 'total', 'add'], \"Boeing's\": [], 'Agency': ['agency', 'agency', 'agency', 'representation', 'means'], 'session': ['session', 'school_term', 'session', 'seance'], 'no': ['no', 'nobelium', 'no', 'no', 'no', 'no'], 'Boeing': [], 'US': ['United_States', 'uracil', 'uranium', 'U'], 'flights': ['flight', 'flight', 'flight', 'escape', 'flight', 'flight', 'trajectory', 'flight', 'flight', 'flight', 'flight', 'fledge'], 'Committee': ['committee', 'committee'], 'problem': ['problem', 'problem', 'trouble'], 'but': ['merely'], '\"shortly': [], 'it': ['information_technology'], 'our': [], 'stakeholders,': [], 'earlier': ['earlier', 'early', 'early', 'early', 'early', 'early', 'early', 'earlier', 'sooner', 'in_the_first_place'], 'California,': [], 'Elwell': [], 'statement,': [], 'Orlando': ['Orlando'], 'facility': ['facility', 'adeptness', 'facility', 'facility', 'facility'], 'were': ['be', 'be', 'be', 'exist', 'be', 'equal', 'constitute', 'be', 'embody', 'be', 'be', 'be', 'cost'], 'by': ['by', 'aside'], 'storage.': [], 'from': [], 'is': ['be', 'be', 'be', 'exist', 'be', 'equal', 'constitute', 'be', 'embody', 'be', 'be', 'be', 'cost'], 'latest': ['latest', 'up-to-the-minute', 'latest', 'late', 'belated', 'late', 'late', 'late', 'late', 'former'], 'matter': ['matter', 'topic', 'matter', 'matter', 'matter', 'matter', 'count'], 'as': ['arsenic', 'American_Samoa', 'angstrom', 'vitamin_A', 'deoxyadenosine_monophosphate', 'adenine', 'ampere', 'A', 'A', 'equally'], 'killed': ['kill', 'kill', 'stamp_out', 'kill', 'kill', 'kill', 'kill', 'kill', 'kill', 'kill', 'toss_off', 'kill', 'kill', 'kill', 'kill'], 'spokesman': ['spokesman'], '346': [], 'allow': ['let', 'permit', 'allow', 'allow', 'leave', 'allow', 'admit', 'give_up', 'allow', 'allow'], 'potential': ['potential', 'electric_potential', 'potential', 'likely'], 'Florida': ['Florida'], 'question': ['question', 'question', 'question', 'doubt', 'motion', 'question', 'question', 'interrogate', 'question', 'interview', 'wonder'], 'Commerce': ['commerce', 'Department_of_Commerce', 'commerce'], 'involving': ['involve', 'involve', 'imply', 'necessitate', 'involve', 'involve', 'involve'], 'prevention': ['prevention'], 'Transportation': ['transportation_system', 'transportation', 'fare', 'Department_of_Transportation', 'transportation', 'exile'], 'expected': ['expect', 'ask', 'expect', 'expect', 'expect', 'have_a_bun_in_the_oven', 'expected'], 'following': ['following', 'pursuit', 'follow', 'postdate', 'follow', 'follow', 'comply', 'follow', 'follow', 'follow', 'adopt', 'follow', 'take_after', 'trace', 'watch', 'succeed', 'play_along', 'keep_up', 'come', 'follow', 'follow', 'be', 'surveil', 'pursue', 'follow', 'stick_to', 'following', 'following', 'following', 'following'], 'crashes,': [], 'criticized': ['knock', 'criticize'], 'conducted': ['conduct', 'conduct', 'behave', 'lead', 'impart', 'conduct'], 'engine': ['engine', 'engine', 'locomotive', 'engine'], 'crew': ['crew', 'gang', 'crowd', 'crew', 'crew'], 'Airlines': ['airline', 'airline'], 'airport': ['airport'], 'The': [], 'has': ['hour_angle', 'have', 'have', 'experience', 'own', 'get', 'consume', 'have', 'hold', 'have', 'have', 'have', 'have', 'induce', 'accept', 'receive', 'suffer', 'have', 'give_birth', 'take'], 'together': ['together', 'together', 'together', 'together', 'together', 'together', 'in_concert'], 'Acting': ['acting', 'act', 'act', 'act', 'act', 'act', 'act', 'work', 'act', 'dissemble', 'act', 'acting'], 'occurred': ['happen', 'occur', 'occur'], 'system': ['system', 'system', 'system', 'system', 'arrangement', 'system', 'system', 'system', 'organization'], 'some': ['some', 'some', 'some', 'some', 'approximately'], '\"The': [], 'familiar': ['familiar', 'companion', 'familiar', 'familiar', 'familiar', 'conversant', 'familiar'], 'Southwest': ['southwest', 'Southwest', 'southwest', 'southwest', 'southwesterly', 'southwest', 'southwest']}\n",
      "a Boeing 737 MaX aircraft operated by Southwest Airliness made an emergency landing on Tuesday after experiencing an engine problem as it was areing ferried from Florida to California, the US Federal aviation agency said. \"The aircraft returned and landed safely in Orlando,\" the Faa said in a statement, adding that no passengers were on board the aircraft, which was areing transferred to Victorville, California for storage. \"The Faa is investigating,\" added the agency, which groundeded the Boeing 737 MaX on March 13 following two deadly accidentss involving Ethiopian Airliness and Lion air but continues to allow the planesss to are ferried from airport to airport. Southwest said the planess experienced an engine problem \"shortly after takeoff.\" \"The crew followed protocol and safely landed back at the airport\" around 3:00 pm (1900 GMT), spokesman Chris Mainz said. \"The Boeing 737 MaX 8 will are moved to our Orlando maintenance facility for a review.\" It was the latest setback for Boeing's flagship narrow-body planess following Octoarer's Lion air crashes and the Ethiopian Airliness accidents earlier this month, which together killed 346 people. The accidentss, which shared similarities, led authorities across the world to grounded the aircraft. Boeing has since conducted test flights of its 737 MaX to evaluate a fix for the MCaS stall prevention system targeted as a potential made for the deadly crasheses, two sources familiar with the matter said. The system has areen criticized since it can malfunction and made it difficult for pilots to make the aircraft. Both of the recent crasheses occurred moments after takeoff. a Senate Commerce Committee panel will make a hearing Wednesday to questions Faa acting administration Daniel Elwell and Transportation Department Inspector General Calvin Scovel The officials are expected to face questionss from lawmaders on the Faa's certification of the 737 MaX and whether regulators make arecome too cozy with the company, and fast-tracked some approvals. The session is expected to are followed by a back hearing at a later date with Boeing, Airlines pilots and other stakemakeers, the Committee said.\n"
     ]
    }
   ],
   "source": [
    "print(stripped_new)\n",
    "print(word_dict)\n",
    "\n",
    "#for i in range(0,len(stripped_new)):\n",
    "#    for temp in word_dict.keys():\n",
    "#        if stripped_new[i] in word_dict[temp]:\n",
    "#            stripped_new[i]=str(temp)\n",
    "for word in stripped_new.split(\" \"):\n",
    "    for k,v in word_dict.items():\n",
    "        if word in v:\n",
    "            stripped_new=stripped_new.replace(word,k)\n",
    "print(stripped_new)"
   ]
  },
  {
   "cell_type": "code",
   "execution_count": 34,
   "metadata": {},
   "outputs": [],
   "source": [
    "data_temp=\"\"\n",
    "for i in stripped_new.split(\" \"):\n",
    "    data_temp=data_temp+\" \"+i"
   ]
  },
  {
   "cell_type": "code",
   "execution_count": 35,
   "metadata": {},
   "outputs": [
    {
     "name": "stdout",
     "output_type": "stream",
     "text": [
      " a Boeing 737 MaX aircraft operated by Southwest Airliness made an emergency landing on Tuesday after experiencing an engine problem as it was areing ferried from Florida to California, the US Federal aviation agency said. \"The aircraft returned and landed safely in Orlando,\" the Faa said in a statement, adding that no passengers were on board the aircraft, which was areing transferred to Victorville, California for storage. \"The Faa is investigating,\" added the agency, which groundeded the Boeing 737 MaX on March 13 following two deadly accidentss involving Ethiopian Airliness and Lion air but continues to allow the planesss to are ferried from airport to airport. Southwest said the planess experienced an engine problem \"shortly after takeoff.\" \"The crew followed protocol and safely landed back at the airport\" around 3:00 pm (1900 GMT), spokesman Chris Mainz said. \"The Boeing 737 MaX 8 will are moved to our Orlando maintenance facility for a review.\" It was the latest setback for Boeing's flagship narrow-body planess following Octoarer's Lion air crashes and the Ethiopian Airliness accidents earlier this month, which together killed 346 people. The accidentss, which shared similarities, led authorities across the world to grounded the aircraft. Boeing has since conducted test flights of its 737 MaX to evaluate a fix for the MCaS stall prevention system targeted as a potential made for the deadly crasheses, two sources familiar with the matter said. The system has areen criticized since it can malfunction and made it difficult for pilots to make the aircraft. Both of the recent crasheses occurred moments after takeoff. a Senate Commerce Committee panel will make a hearing Wednesday to questions Faa acting administration Daniel Elwell and Transportation Department Inspector General Calvin Scovel The officials are expected to face questionss from lawmaders on the Faa's certification of the 737 MaX and whether regulators make arecome too cozy with the company, and fast-tracked some approvals. The session is expected to are followed by a back hearing at a later date with Boeing, Airlines pilots and other stakemakeers, the Committee said.\n"
     ]
    }
   ],
   "source": [
    "print(data_temp)"
   ]
  },
  {
   "cell_type": "code",
   "execution_count": 36,
   "metadata": {},
   "outputs": [
    {
     "data": {
      "text/plain": [
       "str"
      ]
     },
     "execution_count": 36,
     "metadata": {},
     "output_type": "execute_result"
    }
   ],
   "source": [
    "type(data_temp)"
   ]
  },
  {
   "cell_type": "code",
   "execution_count": 37,
   "metadata": {},
   "outputs": [],
   "source": [
    "def remove_string_special_character(s):\n",
    "    stripped=re.sub('[^\\w\\s]','',s)\n",
    "    stripped=re.sub('_','',stripped)\n",
    "    stripped=re.sub('\\s+',' ',stripped)\n",
    "    stripped=stripped.strip()\n",
    "    return stripped"
   ]
  },
  {
   "cell_type": "code",
   "execution_count": 38,
   "metadata": {},
   "outputs": [],
   "source": [
    "def get_doc(sent):\n",
    "    doc_info=[]\n",
    "    i=0\n",
    "    for sen in sent:\n",
    "        i+=1\n",
    "        count=count_words(sen)\n",
    "        temp={'doc_id':i,'doc_length':count}\n",
    "        doc_info.append(temp)\n",
    "    return doc_info"
   ]
  },
  {
   "cell_type": "code",
   "execution_count": 39,
   "metadata": {},
   "outputs": [],
   "source": [
    "def count_words(sent):\n",
    "    count=0\n",
    "    sen=word_tokenize(sent)\n",
    "    for i in sen:\n",
    "        count+=1\n",
    "    return count"
   ]
  },
  {
   "cell_type": "code",
   "execution_count": 40,
   "metadata": {},
   "outputs": [],
   "source": [
    "def create_freq_dict(sents):\n",
    "    i=0\n",
    "    freqDict_list=[]\n",
    "    for sent in sents:\n",
    "        i+=1\n",
    "        freq_dict={}\n",
    "        words=word_tokenize(sent)\n",
    "        for word in words:\n",
    "            word=word.lower()\n",
    "            if word in freq_dict:\n",
    "                freq_dict[word]+=1\n",
    "            else:\n",
    "                freq_dict[word]=1\n",
    "            temp={'doc_id':i,'freq_dict':freq_dict}\n",
    "        freqDict_list.append(temp)\n",
    "    return freqDict_list"
   ]
  },
  {
   "cell_type": "code",
   "execution_count": 41,
   "metadata": {},
   "outputs": [],
   "source": [
    "def computeTF(doc_info,freqDict_List):\n",
    "    TF_scores=[]\n",
    "    for tempDict in freqDict_list:\n",
    "        ident= tempDict['doc_id']\n",
    "        for k in tempDict['freq_dict']:\n",
    "            temp={'doc_id':ident,'TF_score':tempDict['freq_dict'][k]/(doc_info[ident-1]['doc_length']),'key':k}\n",
    "            TF_scores.append(temp)\n",
    "    return TF_scores"
   ]
  },
  {
   "cell_type": "code",
   "execution_count": 42,
   "metadata": {},
   "outputs": [],
   "source": [
    "def computeIDF(doc_info,freqDict_list):\n",
    "    IDF_scores=[]\n",
    "    counter=0\n",
    "    for dict in freqDict_list:\n",
    "        counter+=1\n",
    "        for k in dict['freq_dict'].keys():\n",
    "            count=sum([k in tempDict['freq_dict'] for tempDict in freqDict_list])\n",
    "            temp={'doc_id':counter,'IDF_score' :math.log(len(doc_info)/count),'key':k}\n",
    "            IDF_scores.append(temp)\n",
    "    return IDF_scores"
   ]
  },
  {
   "cell_type": "code",
   "execution_count": 43,
   "metadata": {},
   "outputs": [],
   "source": [
    "def computeTFIDF(TF_scores,IDF_scores):\n",
    "    TFIDF_scores=[]\n",
    "    for j in IDF_scores:\n",
    "        for i in TF_scores:\n",
    "            if j['key']==i['key'] and j['doc_id']==i['doc_id']:\n",
    "                temp={'doc_id':j['doc_id'],'TFIDF_score':j['IDF_score']*i['TF_score']*10,'key':i['key']}\n",
    "        TFIDF_scores.append(temp)\n",
    "    return TFIDF_scores"
   ]
  },
  {
   "cell_type": "code",
   "execution_count": 44,
   "metadata": {},
   "outputs": [
    {
     "name": "stdout",
     "output_type": "stream",
     "text": [
      "[' a Boeing 737 MaX aircraft operated by Southwest Airliness made an emergency landing on Tuesday after experiencing an engine problem as it was areing ferried from Florida to California, the US Federal aviation agency said.', '\"The aircraft returned and landed safely in Orlando,\" the Faa said in a statement, adding that no passengers were on board the aircraft, which was areing transferred to Victorville, California for storage.', '\"The Faa is investigating,\" added the agency, which groundeded the Boeing 737 MaX on March 13 following two deadly accidentss involving Ethiopian Airliness and Lion air but continues to allow the planesss to are ferried from airport to airport.', 'Southwest said the planess experienced an engine problem \"shortly after takeoff.\"', '\"The crew followed protocol and safely landed back at the airport\" around 3:00 pm (1900 GMT), spokesman Chris Mainz said.', '\"The Boeing 737 MaX 8 will are moved to our Orlando maintenance facility for a review.\"', \"It was the latest setback for Boeing's flagship narrow-body planess following Octoarer's Lion air crashes and the Ethiopian Airliness accidents earlier this month, which together killed 346 people.\", 'The accidentss, which shared similarities, led authorities across the world to grounded the aircraft.', 'Boeing has since conducted test flights of its 737 MaX to evaluate a fix for the MCaS stall prevention system targeted as a potential made for the deadly crasheses, two sources familiar with the matter said.', 'The system has areen criticized since it can malfunction and made it difficult for pilots to make the aircraft.', 'Both of the recent crasheses occurred moments after takeoff.', \"a Senate Commerce Committee panel will make a hearing Wednesday to questions Faa acting administration Daniel Elwell and Transportation Department Inspector General Calvin Scovel The officials are expected to face questionss from lawmaders on the Faa's certification of the 737 MaX and whether regulators make arecome too cozy with the company, and fast-tracked some approvals.\", 'The session is expected to are followed by a back hearing at a later date with Boeing, Airlines pilots and other stakemakeers, the Committee said.']\n",
      "['a Boeing 737 MaX aircraft operated by Southwest Airliness made an emergency landing on Tuesday after experiencing an engine problem as it was areing ferried from Florida to California the US Federal aviation agency said', 'The aircraft returned and landed safely in Orlando the Faa said in a statement adding that no passengers were on board the aircraft which was areing transferred to Victorville California for storage', 'The Faa is investigating added the agency which groundeded the Boeing 737 MaX on March 13 following two deadly accidentss involving Ethiopian Airliness and Lion air but continues to allow the planesss to are ferried from airport to airport', 'Southwest said the planess experienced an engine problem shortly after takeoff', 'The crew followed protocol and safely landed back at the airport around 300 pm 1900 GMT spokesman Chris Mainz said', 'The Boeing 737 MaX 8 will are moved to our Orlando maintenance facility for a review', 'It was the latest setback for Boeings flagship narrowbody planess following Octoarers Lion air crashes and the Ethiopian Airliness accidents earlier this month which together killed 346 people', 'The accidentss which shared similarities led authorities across the world to grounded the aircraft', 'Boeing has since conducted test flights of its 737 MaX to evaluate a fix for the MCaS stall prevention system targeted as a potential made for the deadly crasheses two sources familiar with the matter said', 'The system has areen criticized since it can malfunction and made it difficult for pilots to make the aircraft', 'Both of the recent crasheses occurred moments after takeoff', 'a Senate Commerce Committee panel will make a hearing Wednesday to questions Faa acting administration Daniel Elwell and Transportation Department Inspector General Calvin Scovel The officials are expected to face questionss from lawmaders on the Faas certification of the 737 MaX and whether regulators make arecome too cozy with the company and fasttracked some approvals', 'The session is expected to are followed by a back hearing at a later date with Boeing Airlines pilots and other stakemakeers the Committee said']\n",
      "[{'doc_id': 1, 'doc_length': 35}, {'doc_id': 2, 'doc_length': 32}, {'doc_id': 3, 'doc_length': 39}, {'doc_id': 4, 'doc_length': 11}, {'doc_id': 5, 'doc_length': 20}, {'doc_id': 6, 'doc_length': 16}, {'doc_id': 7, 'doc_length': 28}, {'doc_id': 8, 'doc_length': 14}, {'doc_id': 9, 'doc_length': 36}, {'doc_id': 10, 'doc_length': 19}, {'doc_id': 11, 'doc_length': 9}, {'doc_id': 12, 'doc_length': 55}, {'doc_id': 13, 'doc_length': 25}]\n"
     ]
    }
   ],
   "source": [
    "text_sents=sent_tokenize(data_temp)\n",
    "print(text_sents)\n",
    "sent=[remove_string_special_character(s) for s in text_sents]\n",
    "print(sent)\n",
    "doc_info=get_doc(sent)\n",
    "print(doc_info)"
   ]
  },
  {
   "cell_type": "code",
   "execution_count": 45,
   "metadata": {},
   "outputs": [
    {
     "name": "stdout",
     "output_type": "stream",
     "text": [
      "[{'doc_id': 1, 'freq_dict': {'a': 1, 'boeing': 1, '737': 1, 'max': 1, 'aircraft': 1, 'operated': 1, 'by': 1, 'southwest': 1, 'airliness': 1, 'made': 1, 'an': 2, 'emergency': 1, 'landing': 1, 'on': 1, 'tuesday': 1, 'after': 1, 'experiencing': 1, 'engine': 1, 'problem': 1, 'as': 1, 'it': 1, 'was': 1, 'areing': 1, 'ferried': 1, 'from': 1, 'florida': 1, 'to': 1, 'california': 1, 'the': 1, 'us': 1, 'federal': 1, 'aviation': 1, 'agency': 1, 'said': 1}}, {'doc_id': 2, 'freq_dict': {'the': 3, 'aircraft': 2, 'returned': 1, 'and': 1, 'landed': 1, 'safely': 1, 'in': 2, 'orlando': 1, 'faa': 1, 'said': 1, 'a': 1, 'statement': 1, 'adding': 1, 'that': 1, 'no': 1, 'passengers': 1, 'were': 1, 'on': 1, 'board': 1, 'which': 1, 'was': 1, 'areing': 1, 'transferred': 1, 'to': 1, 'victorville': 1, 'california': 1, 'for': 1, 'storage': 1}}, {'doc_id': 3, 'freq_dict': {'the': 4, 'faa': 1, 'is': 1, 'investigating': 1, 'added': 1, 'agency': 1, 'which': 1, 'groundeded': 1, 'boeing': 1, '737': 1, 'max': 1, 'on': 1, 'march': 1, '13': 1, 'following': 1, 'two': 1, 'deadly': 1, 'accidentss': 1, 'involving': 1, 'ethiopian': 1, 'airliness': 1, 'and': 1, 'lion': 1, 'air': 1, 'but': 1, 'continues': 1, 'to': 3, 'allow': 1, 'planesss': 1, 'are': 1, 'ferried': 1, 'from': 1, 'airport': 2}}, {'doc_id': 4, 'freq_dict': {'southwest': 1, 'said': 1, 'the': 1, 'planess': 1, 'experienced': 1, 'an': 1, 'engine': 1, 'problem': 1, 'shortly': 1, 'after': 1, 'takeoff': 1}}, {'doc_id': 5, 'freq_dict': {'the': 2, 'crew': 1, 'followed': 1, 'protocol': 1, 'and': 1, 'safely': 1, 'landed': 1, 'back': 1, 'at': 1, 'airport': 1, 'around': 1, '300': 1, 'pm': 1, '1900': 1, 'gmt': 1, 'spokesman': 1, 'chris': 1, 'mainz': 1, 'said': 1}}, {'doc_id': 6, 'freq_dict': {'the': 1, 'boeing': 1, '737': 1, 'max': 1, '8': 1, 'will': 1, 'are': 1, 'moved': 1, 'to': 1, 'our': 1, 'orlando': 1, 'maintenance': 1, 'facility': 1, 'for': 1, 'a': 1, 'review': 1}}, {'doc_id': 7, 'freq_dict': {'it': 1, 'was': 1, 'the': 2, 'latest': 1, 'setback': 1, 'for': 1, 'boeings': 1, 'flagship': 1, 'narrowbody': 1, 'planess': 1, 'following': 1, 'octoarers': 1, 'lion': 1, 'air': 1, 'crashes': 1, 'and': 1, 'ethiopian': 1, 'airliness': 1, 'accidents': 1, 'earlier': 1, 'this': 1, 'month': 1, 'which': 1, 'together': 1, 'killed': 1, '346': 1, 'people': 1}}, {'doc_id': 8, 'freq_dict': {'the': 3, 'accidentss': 1, 'which': 1, 'shared': 1, 'similarities': 1, 'led': 1, 'authorities': 1, 'across': 1, 'world': 1, 'to': 1, 'grounded': 1, 'aircraft': 1}}, {'doc_id': 9, 'freq_dict': {'boeing': 1, 'has': 1, 'since': 1, 'conducted': 1, 'test': 1, 'flights': 1, 'of': 1, 'its': 1, '737': 1, 'max': 1, 'to': 1, 'evaluate': 1, 'a': 2, 'fix': 1, 'for': 2, 'the': 3, 'mcas': 1, 'stall': 1, 'prevention': 1, 'system': 1, 'targeted': 1, 'as': 1, 'potential': 1, 'made': 1, 'deadly': 1, 'crasheses': 1, 'two': 1, 'sources': 1, 'familiar': 1, 'with': 1, 'matter': 1, 'said': 1}}, {'doc_id': 10, 'freq_dict': {'the': 2, 'system': 1, 'has': 1, 'areen': 1, 'criticized': 1, 'since': 1, 'it': 2, 'can': 1, 'malfunction': 1, 'and': 1, 'made': 1, 'difficult': 1, 'for': 1, 'pilots': 1, 'to': 1, 'make': 1, 'aircraft': 1}}, {'doc_id': 11, 'freq_dict': {'both': 1, 'of': 1, 'the': 1, 'recent': 1, 'crasheses': 1, 'occurred': 1, 'moments': 1, 'after': 1, 'takeoff': 1}}, {'doc_id': 12, 'freq_dict': {'a': 2, 'senate': 1, 'commerce': 1, 'committee': 1, 'panel': 1, 'will': 1, 'make': 2, 'hearing': 1, 'wednesday': 1, 'to': 2, 'questions': 1, 'faa': 1, 'acting': 1, 'administration': 1, 'daniel': 1, 'elwell': 1, 'and': 3, 'transportation': 1, 'department': 1, 'inspector': 1, 'general': 1, 'calvin': 1, 'scovel': 1, 'the': 4, 'officials': 1, 'are': 1, 'expected': 1, 'face': 1, 'questionss': 1, 'from': 1, 'lawmaders': 1, 'on': 1, 'faas': 1, 'certification': 1, 'of': 1, '737': 1, 'max': 1, 'whether': 1, 'regulators': 1, 'arecome': 1, 'too': 1, 'cozy': 1, 'with': 1, 'company': 1, 'fasttracked': 1, 'some': 1, 'approvals': 1}}, {'doc_id': 13, 'freq_dict': {'the': 2, 'session': 1, 'is': 1, 'expected': 1, 'to': 1, 'are': 1, 'followed': 1, 'by': 1, 'a': 2, 'back': 1, 'hearing': 1, 'at': 1, 'later': 1, 'date': 1, 'with': 1, 'boeing': 1, 'airlines': 1, 'pilots': 1, 'and': 1, 'other': 1, 'stakemakeers': 1, 'committee': 1, 'said': 1}}]\n"
     ]
    }
   ],
   "source": [
    "freqDict_list=create_freq_dict(sent)\n",
    "print(freqDict_list)\n",
    "TF_scores=computeTF(doc_info,freqDict_list)\n",
    "IDF_scores=computeIDF(doc_info,freqDict_list)"
   ]
  },
  {
   "cell_type": "code",
   "execution_count": 46,
   "metadata": {},
   "outputs": [],
   "source": [
    "TFIDF_scores=computeTFIDF(TF_scores,IDF_scores)"
   ]
  },
  {
   "cell_type": "code",
   "execution_count": 47,
   "metadata": {},
   "outputs": [],
   "source": [
    "def get_sent_score(TFIDF_scores,sent,doc_info):\n",
    "    sent_info=[]\n",
    "    for doc in doc_info:\n",
    "        sent_score=0\n",
    "        for i in range(0,len(TFIDF_scores)):\n",
    "            temp_dict=TFIDF_scores[i]\n",
    "            if doc['doc_id']== temp_dict['doc_id']:\n",
    "                sent_score+=temp_dict['TFIDF_score']\n",
    "        temp={'doc_id':doc['doc_id'],'sent_score':sent_score,'sentence': sent[doc['doc_id']-1]}\n",
    "        sent_info.append(temp)\n",
    "\n",
    "    return sent_info"
   ]
  },
  {
   "cell_type": "code",
   "execution_count": 48,
   "metadata": {},
   "outputs": [],
   "source": [
    "sentence_info=get_sent_score(TFIDF_scores,sent,doc_info)"
   ]
  },
  {
   "cell_type": "code",
   "execution_count": 49,
   "metadata": {},
   "outputs": [],
   "source": [
    "def get_summary(sentence_info):\n",
    "    sum=0\n",
    "    summary=[]\n",
    "    array=[]\n",
    "    for temp in sentence_info:\n",
    "        sum+=temp['sent_score']\n",
    "    avg=sum/len(sentence_info)\n",
    "    for temp in sentence_info:\n",
    "        array.append(temp['sent_score'])\n",
    "    #stdev=statistics.stdev(array)\n",
    "    for sent in sentence_info:\n",
    "        if(sent['sent_score'])>=avg:\n",
    "            summary.append(sent['sentence'])\n",
    "    summary='\\n'.join(summary)\n",
    "    return summary\n",
    "    "
   ]
  },
  {
   "cell_type": "code",
   "execution_count": 50,
   "metadata": {},
   "outputs": [
    {
     "name": "stdout",
     "output_type": "stream",
     "text": [
      "The crew followed protocol and safely landed back at the airport around 300 pm 1900 GMT spokesman Chris Mainz said\n",
      "It was the latest setback for Boeings flagship narrowbody planess following Octoarers Lion air crashes and the Ethiopian Airliness accidents earlier this month which together killed 346 people\n",
      "Both of the recent crasheses occurred moments after takeoff\n",
      "a Senate Commerce Committee panel will make a hearing Wednesday to questions Faa acting administration Daniel Elwell and Transportation Department Inspector General Calvin Scovel The officials are expected to face questionss from lawmaders on the Faas certification of the 737 MaX and whether regulators make arecome too cozy with the company and fasttracked some approvals\n"
     ]
    }
   ],
   "source": [
    "summary =get_summary(sentence_info)\n",
    "print(summary)"
   ]
  },
  {
   "cell_type": "code",
   "execution_count": null,
   "metadata": {},
   "outputs": [],
   "source": []
  },
  {
   "cell_type": "code",
   "execution_count": null,
   "metadata": {},
   "outputs": [],
   "source": []
  }
 ],
 "metadata": {
  "kernelspec": {
   "display_name": "Python 3",
   "language": "python",
   "name": "python3"
  },
  "language_info": {
   "codemirror_mode": {
    "name": "ipython",
    "version": 3
   },
   "file_extension": ".py",
   "mimetype": "text/x-python",
   "name": "python",
   "nbconvert_exporter": "python",
   "pygments_lexer": "ipython3",
   "version": "3.7.0"
  }
 },
 "nbformat": 4,
 "nbformat_minor": 2
}
