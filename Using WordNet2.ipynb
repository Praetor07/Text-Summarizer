{
 "cells": [
  {
   "cell_type": "code",
   "execution_count": 1,
   "metadata": {},
   "outputs": [],
   "source": [
    "import numpy as np\n",
    "import pandas as pd\n",
    "import re\n",
    "from nltk.corpus import wordnet\n",
    "from collections import OrderedDict\n",
    "import nltk\n",
    "import re\n",
    "from nltk.corpus import stopwords\n",
    "from nltk.tokenize import word_tokenize,sent_tokenize\n",
    "import math"
   ]
  },
  {
   "cell_type": "code",
   "execution_count": 2,
   "metadata": {},
   "outputs": [
    {
     "name": "stdout",
     "output_type": "stream",
     "text": [
      "[Synset('beauty.n.01'), Synset('smasher.n.02'), Synset('beauty.n.03')]\n"
     ]
    }
   ],
   "source": [
    "syn=wordnet.synsets(\"beauty\")\n",
    "print(syn)"
   ]
  },
  {
   "cell_type": "code",
   "execution_count": 3,
   "metadata": {},
   "outputs": [
    {
     "name": "stdout",
     "output_type": "stream",
     "text": [
      "beauty\n"
     ]
    }
   ],
   "source": [
    "print(syn[0].lemmas()[0].name())"
   ]
  },
  {
   "cell_type": "code",
   "execution_count": 4,
   "metadata": {},
   "outputs": [],
   "source": [
    "demo=[]\n",
    "for i in range(0,len(syn)):\n",
    "    demo.append(syn[i].lemmas()[0].name())"
   ]
  },
  {
   "cell_type": "code",
   "execution_count": 5,
   "metadata": {},
   "outputs": [
    {
     "name": "stdout",
     "output_type": "stream",
     "text": [
      "{1, 2, 3, 12}\n"
     ]
    }
   ],
   "source": [
    "print(set([1,2,12,12,12,3,1]))"
   ]
  },
  {
   "cell_type": "code",
   "execution_count": 6,
   "metadata": {},
   "outputs": [
    {
     "name": "stdout",
     "output_type": "stream",
     "text": [
      "[Synset('exist.v.01'), Synset('exist.v.02')]\n"
     ]
    }
   ],
   "source": [
    "set(demo)\n",
    "print(wordnet.synsets(\"exists\"))"
   ]
  },
  {
   "cell_type": "code",
   "execution_count": 7,
   "metadata": {},
   "outputs": [
    {
     "name": "stdout",
     "output_type": "stream",
     "text": [
      "A Boeing 737 MAX aircraft operated by Southwest Airlines made an emergency landing on Tuesday after experiencing an engine problem as it was being ferried from Florida to California, the US Federal Aviation Agency said. \"The aircraft returned and landed safely in Orlando,\" the FAA said in a statement, adding that no passengers were on board the aircraft, which was being transferred to Victorville, California for storage. \"The FAA is investigating,\" added the agency, which grounded the Boeing 737 MAX on March 13 following two deadly accidents involving Ethiopian Airlines and Lion Air but continues to allow the planes to be ferried from airport to airport. Southwest said the plane experienced an engine problem \"shortly after takeoff.\" \"The crew followed protocol and safely landed back at the airport\" around 3:00 pm (1900 GMT), spokesman Chris Mainz said. \"The Boeing 737 MAX 8 will be moved to our Orlando maintenance facility for a review.\" It was the latest setback for Boeing's flagship narrow-body plane following October's Lion Air crash and the Ethiopian Airlines accident earlier this month, which together killed 346 people. The accidents, which shared similarities, led authorities across the world to ground the aircraft. Boeing has since conducted test flights of its 737 MAX to evaluate a fix for the MCAS stall prevention system targeted as a potential cause for the deadly crashes, two sources familiar with the matter said. The system has been criticized since it can malfunction and make it difficult for pilots to control the aircraft. Both of the recent crashes occurred moments after takeoff. A Senate Commerce Committee panel will hold a hearing Wednesday to question FAA Acting Administration Daniel Elwell and Transportation Department Inspector General Calvin Scovel The officials are expected to face questions from lawmakers on the FAA's certification of the 737 MAX and whether regulators have become too cozy with the company, and fast-tracked some approvals. The session is expected to be followed by a second hearing at a later date with Boeing, airline pilots and other stakeholders, the committee said.\n"
     ]
    }
   ],
   "source": [
    "stripped='''A Boeing 737 MAX aircraft operated by Southwest Airlines made an emergency landing on Tuesday after experiencing an engine problem as it was being ferried from Florida to California, the US Federal Aviation Agency said. \"The aircraft returned and landed safely in Orlando,\" the FAA said in a statement, adding that no passengers were on board the aircraft, which was being transferred to Victorville, California for storage. \"The FAA is investigating,\" added the agency, which grounded the Boeing 737 MAX on March 13 following two deadly accidents involving Ethiopian Airlines and Lion Air but continues to allow the planes to be ferried from airport to airport. Southwest said the plane experienced an engine problem \"shortly after takeoff.\" \"The crew followed protocol and safely landed back at the airport\" around 3:00 pm (1900 GMT), spokesman Chris Mainz said. \"The Boeing 737 MAX 8 will be moved to our Orlando maintenance facility for a review.\" It was the latest setback for Boeing's flagship narrow-body plane following October's Lion Air crash and the Ethiopian Airlines accident earlier this month, which together killed 346 people. The accidents, which shared similarities, led authorities across the world to ground the aircraft. Boeing has since conducted test flights of its 737 MAX to evaluate a fix for the MCAS stall prevention system targeted as a potential cause for the deadly crashes, two sources familiar with the matter said. The system has been criticized since it can malfunction and make it difficult for pilots to control the aircraft. Both of the recent crashes occurred moments after takeoff. A Senate Commerce Committee panel will hold a hearing Wednesday to question FAA Acting Administration Daniel Elwell and Transportation Department Inspector General Calvin Scovel The officials are expected to face questions from lawmakers on the FAA's certification of the 737 MAX and whether regulators have become too cozy with the company, and fast-tracked some approvals. The session is expected to be followed by a second hearing at a later date with Boeing, airline pilots and other stakeholders, the committee said.'''\n",
    "demo=[]\n",
    "word_dict={}\n",
    "#stripped=re.sub('[^\\w\\s]','',s)\n",
    "#stripped=re.sub('_','',stripped)\n",
    "#stripped=re.sub('\\s+',' ',stripped)\n",
    "stripped_new=stripped\n",
    "stripped=list(set(stripped.split()))\n",
    "print(stripped_new)\n",
    "temp=list(dict.fromkeys(stripped))\n",
    "#print(\"this is temp\",temp,\" this is stripped\",stripped)\n",
    "#for i in stripped:\n",
    " #   print(i)\n",
    "for i in stripped:\n",
    "    syn=wordnet.synsets(i)\n",
    "    demo=[]\n",
    "    for j in range(0,len(syn)):\n",
    "        demo.append(syn[j].lemmas()[0].name())\n",
    "    word_dict[i]=demo\n",
    "#print(word_dict)\n",
    "#for i in word_dict.keys():\n",
    " #   word_dict[i]=list(set(word_dict[i]))\n",
    "#for i in word_dict.keys():\n",
    " #   print(i,\":\",word_dict[i])"
   ]
  },
  {
   "cell_type": "code",
   "execution_count": 8,
   "metadata": {
    "scrolled": true
   },
   "outputs": [
    {
     "name": "stdout",
     "output_type": "stream",
     "text": [
      "A Boeing 737 MAX aircraft operated by Southwest Airlines made an emergency landing on Tuesday after experiencing an engine problem as it was being ferried from Florida to California, the US Federal Aviation Agency said. \"The aircraft returned and landed safely in Orlando,\" the FAA said in a statement, adding that no passengers were on board the aircraft, which was being transferred to Victorville, California for storage. \"The FAA is investigating,\" added the agency, which grounded the Boeing 737 MAX on March 13 following two deadly accidents involving Ethiopian Airlines and Lion Air but continues to allow the planes to be ferried from airport to airport. Southwest said the plane experienced an engine problem \"shortly after takeoff.\" \"The crew followed protocol and safely landed back at the airport\" around 3:00 pm (1900 GMT), spokesman Chris Mainz said. \"The Boeing 737 MAX 8 will be moved to our Orlando maintenance facility for a review.\" It was the latest setback for Boeing's flagship narrow-body plane following October's Lion Air crash and the Ethiopian Airlines accident earlier this month, which together killed 346 people. The accidents, which shared similarities, led authorities across the world to ground the aircraft. Boeing has since conducted test flights of its 737 MAX to evaluate a fix for the MCAS stall prevention system targeted as a potential cause for the deadly crashes, two sources familiar with the matter said. The system has been criticized since it can malfunction and make it difficult for pilots to control the aircraft. Both of the recent crashes occurred moments after takeoff. A Senate Commerce Committee panel will hold a hearing Wednesday to question FAA Acting Administration Daniel Elwell and Transportation Department Inspector General Calvin Scovel The officials are expected to face questions from lawmakers on the FAA's certification of the 737 MAX and whether regulators have become too cozy with the company, and fast-tracked some approvals. The session is expected to be followed by a second hearing at a later date with Boeing, airline pilots and other stakeholders, the committee said.\n",
      "{'malfunction': ['malfunction', 'malfunction'], 'Senate': ['senate', 'United_States_Senate'], 'latest': ['latest', 'up-to-the-minute', 'latest', 'late', 'belated', 'late', 'late', 'late', 'late', 'former'], 'similarities,': [], 'evaluate': ['measure', 'evaluate'], 'an': ['Associate_in_Nursing'], 'Victorville,': [], 'killed': ['kill', 'kill', 'stamp_out', 'kill', 'kill', 'kill', 'kill', 'kill', 'kill', 'kill', 'toss_off', 'kill', 'kill', 'kill', 'kill'], 'system': ['system', 'system', 'system', 'system', 'arrangement', 'system', 'system', 'system', 'organization'], 'followed': ['follow', 'postdate', 'follow', 'follow', 'comply', 'follow', 'follow', 'follow', 'adopt', 'follow', 'take_after', 'trace', 'watch', 'succeed', 'play_along', 'keep_up', 'come', 'follow', 'follow', 'be', 'surveil', 'pursue', 'follow', 'stick_to'], 'moments': ['moment', 'moment', 'here_and_now', 'consequence', 'moment', 'moment'], 'A': ['angstrom', 'vitamin_A', 'deoxyadenosine_monophosphate', 'adenine', 'ampere', 'A', 'A'], 'shared': ['share', 'share', 'partake', 'share', 'share', 'shared', 'divided'], 'date': ['date', 'date', 'date', 'date', 'date', 'date', 'date', 'date', 'date', 'date', 'date', 'go_steady', 'date'], 'Scovel': [], 'maintenance': ['care', 'maintenance', 'alimony', 'sustenance', 'maintenance'], 'spokesman': ['spokesman'], 'for': [], 'become': ['become', 'become', 'become', 'become'], 'two': ['two', 'deuce', 'two'], 'fix': ['fix', 'fix', 'repair', 'fix', 'localization', 'repair', 'fasten', 'specify', 'cook', 'pay_back', 'fix', 'fix', 'fixate', 'sterilize', 'fix', 'situate', 'fix'], 'pilots': ['pilot', 'pilot', 'pilot_program', 'original', 'pilot_burner', 'fender', 'fly', 'navigate'], 'storage.': [], 'allow': ['let', 'permit', 'allow', 'allow', 'leave', 'allow', 'admit', 'give_up', 'allow', 'allow'], '346': [], 'statement,': [], 'of': [], 'operated': ['operate', 'function', 'operate', 'manoeuver', 'operate', 'engage', 'operate_on'], 'people.': [], 'was': ['Washington', 'be', 'be', 'be', 'exist', 'be', 'equal', 'constitute', 'be', 'embody', 'be', 'be', 'be', 'cost'], 'aircraft,': [], 'Agency': ['agency', 'agency', 'agency', 'representation', 'means'], 'board': ['board', 'board', 'board', 'board', 'display_panel', 'dining_table', 'control_panel', 'circuit_board', 'board', 'board', 'board', 'board', 'board'], 'transferred': ['transfer', 'transfer', 'transplant', 'transfer', 'transfer', 'transfer', 'transmit', 'remove', 'transfer'], 'Air': ['air', 'air', 'air', 'breeze', 'atmosphere', 'air', 'tune', 'air', 'air_travel', 'air_out', 'air', 'air', 'publicize', 'air', 'vent'], 'returned': ['return', 'render', 'revert', 'hark_back', 'return', 'return', 'return', 'retort', 'come_back', 'refund', 'render', 'reelect', 'fall', 'return', 'render', 'return'], 'airport': ['airport'], 'airline': ['airline', 'airline'], 'back': ['back', 'rear', 'back', 'back', 'spinal_column', 'binding', 'back', 'back', 'back', 'back', 'back', 'second', 'back', 'back', 'back', 'bet_on', 'back', 'back', 'back', 'back', 'back', 'back', 'back', 'back', 'back', 'back', 'back', 'back'], 'Federal': ['Federal', 'Federal', 'federal', 'federal', 'Union', 'federal'], 'expected': ['expect', 'ask', 'expect', 'expect', 'expect', 'have_a_bun_in_the_oven', 'expected'], 'takeoff.\"': [], 'conducted': ['conduct', 'conduct', 'behave', 'lead', 'impart', 'conduct'], 'later': ['later', 'late', 'late', 'belated', 'late', 'late', 'late', 'late', 'former', 'subsequently', 'by_and_by', 'later'], '3:00': [], 'emergency': ['emergency', 'emergency', 'hand_brake'], 'ground': ['land', 'reason', 'earth', 'footing', 'ground', 'background', 'land', 'ground', 'ground', 'ground', 'flat_coat', 'anchor', 'ground', 'ground', 'ground', 'ground', 'ground', 'ground', 'ground', 'ground', 'prime', 'ground', 'establish', 'crunch', 'grate', 'labor', 'grind', 'grind', 'grind', 'grind'], 'but': ['merely'], 'plane': ['airplane', 'plane', 'plane', 'plane', 'plane', 'plane', 'plane', 'plane', 'flat'], 'and': [], 'certification': ['certification', 'documentation', 'certificate', 'authentication'], 'GMT),': [], 'crashes,': [], 'sources': ['beginning', 'source', 'source', 'source', 'informant', 'generator', 'source', 'reservoir', 'reference', 'source', 'source'], 'Orlando': ['Orlando'], 'on': ['on', 'on', 'along', 'on', 'on'], 'facility': ['facility', 'adeptness', 'facility', 'facility', 'facility'], 'Both': ['both'], 'FAA': ['Federal_Aviation_Agency'], '13': ['thirteen', 'thirteen'], 'whether': [], 'setback': ['reverse'], 'review.\"': [], 'said': ['state', 'allege', 'suppose', 'read', 'order', 'pronounce', 'say', 'say', 'say', 'say', 'say', 'aforesaid'], 'Airlines': ['airline', 'airline'], 'with': [], 'occurred': ['happen', 'occur', 'occur'], 'other': ['other', 'other', 'early', 'other'], 'Orlando,\"': [], 'being': ['being', 'organism', 'be', 'be', 'be', 'exist', 'be', 'equal', 'constitute', 'be', 'embody', 'be', 'be', 'be', 'cost'], '\"shortly': [], 'after': ['after', 'subsequently', 'after'], 'pm': ['autopsy', 'promethium', 'Prime_Minister', 'phase_modulation'], 'control': ['control', 'control', 'control', 'control_condition', 'control', 'dominance', 'restraint', 'command', 'control', 'control', 'control', 'control', 'control', 'operate', 'manipulate', 'control', 'control', 'see', 'master'], 'Administration': ['administration', 'administration', 'administration', 'presidency', 'government', 'administration'], 'face': ['face', 'expression', 'face', 'face', 'face', 'side', 'face', 'face', 'grimace', 'font', 'face', 'boldness', 'face', 'confront', 'confront', 'front', 'face', 'face', 'confront', 'face', 'face', 'face'], 'is': ['be', 'be', 'be', 'exist', 'be', 'equal', 'constitute', 'be', 'embody', 'be', 'be', 'be', 'cost'], 'continues': ['continue', 'continue', 'continue', 'proceed', 'retain', 'continue', 'continue', 'stay', 'cover', 'continue'], 'will': ['volition', 'will', 'will', 'will', 'will', 'bequeath'], '737': [], 'landing': ['landing', 'landing', 'landing', 'landing', 'land', 'land', 'bring', 'land', 'land', 'land', 'down'], 'has': ['hour_angle', 'have', 'have', 'experience', 'own', 'get', 'consume', 'have', 'hold', 'have', 'have', 'have', 'have', 'induce', 'accept', 'receive', 'suffer', 'have', 'give_birth', 'take'], 'which': [], \"FAA's\": [], 'Florida': ['Florida'], 'experienced': ['experience', 'know', 'experience', 'feel', 'have', 'experienced'], 'as': ['arsenic', 'American_Samoa', 'angstrom', 'vitamin_A', 'deoxyadenosine_monophosphate', 'adenine', 'ampere', 'A', 'A', 'equally'], 'flagship': ['flagship', 'flagship'], 'together': ['together', 'together', 'together', 'together', 'together', 'together', 'in_concert'], 'problem': ['problem', 'problem', 'trouble'], 'said.': [], 'protocol': ['protocol', 'protocol', 'protocol'], 'airport.': [], 'cozy': ['cosy', 'cozy', 'cozy', 'cozy'], 'investigating,\"': [], \"October's\": [], 'questions': ['question', 'question', 'question', 'doubt', 'motion', 'question', 'question', 'interrogate', 'question', 'interview', 'wonder'], 'by': ['by', 'aside'], 'have': ['rich_person', 'have', 'have', 'experience', 'own', 'get', 'consume', 'have', 'hold', 'have', 'have', 'have', 'have', 'induce', 'accept', 'receive', 'suffer', 'have', 'give_birth', 'take'], 'cause': ['cause', 'cause', 'campaign', 'causal_agent', 'lawsuit', 'cause', 'induce'], 'targeted': ['target'], 'Aviation': ['aviation', 'aviation', 'aviation', 'air_travel'], 'engine': ['engine', 'engine', 'locomotive', 'engine'], 'aircraft.': [], 'earlier': ['earlier', 'early', 'early', 'early', 'early', 'early', 'early', 'earlier', 'sooner', 'in_the_first_place'], 'stall': ['stall', 'booth', 'stall', 'stall', 'stall', 'carrel', 'stall', 'procrastinate', 'stall', 'stall', 'stall', 'stall', 'stall', 'stall'], 'regulators': ['regulator', 'regulator', 'governor'], 'from': [], 'crew': ['crew', 'gang', 'crowd', 'crew', 'crew'], 'world': ['universe', 'world', 'world', 'Earth', 'populace', 'world', 'worldly_concern', 'world', 'global'], 'takeoff.': [], 'passengers': ['passenger'], 'narrow-body': ['narrowbody_aircraft'], 'too': ['excessively', 'besides'], 'MAX': ['soap'], 'familiar': ['familiar', 'companion', 'familiar', 'familiar', 'familiar', 'conversant', 'familiar'], 'ferried': ['ferry', 'ferry', 'ferry'], 'adding': ['add', 'add', 'lend', 'add', 'total', 'add'], 'The': [], 'March': ['March', 'march', 'march', 'march', 'borderland', 'marching_music', 'Master_of_Architecture', 'march', 'march', 'march', 'demonstrate', 'parade', 'march', 'border'], 'moved': ['travel', 'move', 'move', 'move', 'go', 'be_active', 'move', 'act', 'affect', 'motivate', 'move', 'move', 'move', 'move', 'move', 'move', 'moved'], 'since': [], 'officials': ['official', 'official'], 'accidents,': [], 'month,': [], 'it': ['information_technology'], 'authorities': ['government', 'authority', 'authority', 'authority', 'assurance', 'agency', 'authority', 'authority'], 'Boeing': [], 'our': [], 'Commerce': ['commerce', 'Department_of_Commerce', 'commerce'], 'can': ['can', 'can', 'can', 'buttocks', 'toilet', 'toilet', 'can', 'displace'], 'Committee': ['committee', 'committee'], 'made': ['make', 'make', 'make', 'induce', 'cause', 'produce', 'draw', 'make', 'create', 'gain', 'do', 'form', 'reach', 'make', 'make', 'make', 'construct', 'make', 'make', 'name', 'have', 'reach', 'lay_down', 'make', 'make', 'hold', 'make', 'take', 'stool', 'make', 'make', 'make', 'make', 'make', 'make', 'make', 'make', 'make', 'cook', 'seduce', 'make', 'make', 'make', 'make', 'make', 'make', 'make', 'make', 'make', 'made', 'made', 'made'], 'make': ['brand', 'shuffle', 'make', 'make', 'make', 'induce', 'cause', 'produce', 'draw', 'make', 'create', 'gain', 'do', 'form', 'reach', 'make', 'make', 'make', 'construct', 'make', 'make', 'name', 'have', 'reach', 'lay_down', 'make', 'make', 'hold', 'make', 'take', 'stool', 'make', 'make', 'make', 'make', 'make', 'make', 'make', 'make', 'make', 'cook', 'seduce', 'make', 'make', 'make', 'make', 'make', 'make', 'make', 'make', 'make'], 'hearing': ['hearing', 'hearing', 'earshot', 'listening', 'hearing', 'hearing', 'hear', 'learn', 'hear', 'hear', 'listen', 'hearing'], 'second': ['second', 'moment', 'second_base', 'moment', 'second', 'second', 'second', 'second', 'second_gear', 'irregular', 'second', 'second', 'second', 'second', 'second'], 'crashes': ['clang', 'crash', 'crash', 'crash', 'crash', 'crash', 'crash', 'crash', 'crash', 'crash', 'crash', 'crash', 'barge_in', 'crash', 'crash', 'crash', 'crash', 'doss'], 'fast-tracked': [], 'grounded': ['anchor', 'ground', 'ground', 'ground', 'ground', 'ground', 'ground', 'ground', 'ground', 'prime', 'ground', 'establish'], 'prevention': ['prevention'], 'committee': ['committee', 'committee'], 'Transportation': ['transportation_system', 'transportation', 'fare', 'Department_of_Transportation', 'transportation', 'exile'], 'Lion': ['lion', 'lion', 'Leo', 'Leo'], 'lawmakers': ['lawgiver'], 'accidents': ['accident', 'accident'], 'flights': ['flight', 'flight', 'flight', 'escape', 'flight', 'flight', 'trajectory', 'flight', 'flight', 'flight', 'flight', 'fledge'], 'no': ['no', 'nobelium', 'no', 'no', 'no', 'no'], 'some': ['some', 'some', 'some', 'some', 'approximately'], 'are': ['are', 'be', 'be', 'be', 'exist', 'be', 'equal', 'constitute', 'be', 'embody', 'be', 'be', 'be', 'cost'], 'matter': ['matter', 'topic', 'matter', 'matter', 'matter', 'matter', 'count'], 'its': ['information_technology'], 'General': ['general', 'general', 'general', 'general', 'general', 'general', 'general', 'general', 'general', 'cosmopolitan'], 'accident': ['accident', 'accident'], 'session': ['session', 'school_term', 'session', 'seance'], 'involving': ['involve', 'involve', 'imply', 'necessitate', 'involve', 'involve', 'involve'], 'a': ['angstrom', 'vitamin_A', 'deoxyadenosine_monophosphate', 'adenine', 'ampere', 'A', 'A'], 'in': ['inch', 'indium', 'Indiana', 'in', 'in', 'in', 'in'], 'at': ['astatine', 'at'], 'Daniel': ['Daniel', 'Daniel', 'Daniel'], 'deadly': ['deadly', 'deadly', 'deadly', 'deadly', 'baneful', 'deadly', 'deadly', 'madly'], '\"The': [], 'Chris': [], 'Mainz': [], 'added': ['add', 'add', 'lend', 'add', 'total', 'add'], 'MCAS': [], 'Elwell': [], 'landed': ['land', 'land', 'bring', 'land', 'land', 'land', 'down', 'landed'], '8': ['eight', 'eight'], 'Inspector': ['inspector', 'examiner'], 'the': [], 'hold': ['clasp', 'appreciation', 'hold', 'delay', 'detention', 'hold', 'hold', 'handle', 'cargo_area', 'keep', 'hold', 'hold', 'have', 'deem', 'harbor', 'restrain', 'retain', 'bear', 'hold', 'hold', 'accommodate', 'hold', 'hold', 'prevail', 'hold', 'hold', 'contain', 'reserve', 'defend', 'oblige', 'hold', 'hold', 'defy', 'apply', 'hold', 'control', 'hold', 'hold', 'halt', 'hold', 'carry', 'hold', 'declare', 'agree', 'hold'], 'Boeing,': [], 'panel': ['panel', 'jury', 'panel', 'panel', 'panel', 'gore', 'dialog_box', 'control_panel', 'panel', 'empanel'], 'this': [], 'aircraft': ['aircraft'], 'criticized': ['knock', 'criticize'], 'California': ['California'], 'Acting': ['acting', 'act', 'act', 'act', 'act', 'act', 'act', 'work', 'act', 'dissemble', 'act', 'acting'], 'difficult': ['difficult', 'unmanageable'], '(1900': [], 'recent': ['Holocene', 'recent', 'late'], 'potential': ['potential', 'electric_potential', 'potential', 'likely'], 'Calvin': ['Calvin', 'Calvin'], 'company,': [], 'stakeholders,': [], 'across': ['across', 'across'], 'agency,': [], 'that': [], 'approvals.': [], 'were': ['be', 'be', 'be', 'exist', 'be', 'equal', 'constitute', 'be', 'embody', 'be', 'be', 'be', 'cost'], 'Department': ['department', 'department', 'department'], 'experiencing': ['experience', 'know', 'experience', 'feel', 'have'], 'US': ['United_States', 'uracil', 'uranium', 'U'], \"Boeing's\": [], 'question': ['question', 'question', 'question', 'doubt', 'motion', 'question', 'question', 'interrogate', 'question', 'interview', 'wonder'], 'Ethiopian': ['Ethiopian', 'Ethiopian'], 'California,': [], 'test': ['trial', 'test', 'examination', 'test', 'test', 'test', 'test', 'screen', 'quiz', 'test', 'test', 'test', 'test'], 'Tuesday': ['Tuesday'], 'been': ['be', 'be', 'be', 'exist', 'be', 'equal', 'constitute', 'be', 'embody', 'be', 'be', 'be', 'cost'], 'led': ['light-emitting_diode', 'lead', 'leave', 'lead', 'lead', 'lead', 'run', 'head', 'lead', 'contribute', 'conduct', 'go', 'precede', 'run', 'moderate'], 'Southwest': ['southwest', 'Southwest', 'southwest', 'southwest', 'southwesterly', 'southwest', 'southwest'], 'It': ['information_technology'], 'be': ['beryllium', 'be', 'be', 'be', 'exist', 'be', 'equal', 'constitute', 'be', 'embody', 'be', 'be', 'be', 'cost'], 'airport\"': [], 'around': ['about', 'around', 'about', 'around', 'approximately', 'about', 'around', 'about', 'around', 'round'], 'to': [], 'safely': ['safely'], 'Wednesday': ['Wednesday'], 'planes': ['airplane', 'plane', 'plane', 'plane', 'plane', 'plane', 'plane', 'plane', 'plan', 'plan', 'plan', 'design'], 'following': ['following', 'pursuit', 'follow', 'postdate', 'follow', 'follow', 'comply', 'follow', 'follow', 'follow', 'adopt', 'follow', 'take_after', 'trace', 'watch', 'succeed', 'play_along', 'keep_up', 'come', 'follow', 'follow', 'be', 'surveil', 'pursue', 'follow', 'stick_to', 'following', 'following', 'following', 'following'], 'crash': ['clang', 'crash', 'crash', 'crash', 'crash', 'crash', 'crash', 'crash', 'crash', 'crash', 'crash', 'crash', 'barge_in', 'crash', 'crash', 'crash', 'crash', 'doss']}\n",
      "A Boeing 737 MAX aircraft operated by Southwest Airlines made an emergency landing on Tuesday after experiencing an engine problem as it was being ferried from Florida to California, the US Federal Aviation Agency said. \"The aircraft returned and landed safely in Orlando,\" the FAA said in a statement, adding that no passengers were on board the aircraft, which was being transferred to Victorville, California for storage. \"The FAA is investigating,\" added the agency, which grounded the Boeing 737 MAX on March 13 following two deadly accidents involving Ethiopian Airlines and Lion Air but continues to allow the planes to be ferried from airport to airport. Southwest said the plane experienced an engine problem \"shortly after takeoff.\" \"The crew followed protocol and safely landed back at the airport\" around 3:00 pm (1900 GMT), spokesman Chris Mainz said. \"The Boeing 737 MAX 8 will be moved to our Orlando maintenance facility for a review.\" It was the latest setback for Boeing's flagship narrow-body plane following October's Lion Air crash and the Ethiopian Airlines accident earlier this month, which together killed 346 people. The accidents, which shared similarities, led authorities across the world to ground the aircraft. Boeing has since conducted test flights of its 737 MAX to evaluate a fix for the MCAS stall prevention system targeted as a potential cause for the deadly crashes, two sources familiar with the matter said. The system has been criticized since it can malfunction and make it difficult for pilots to control the aircraft. Both of the recent crashes occurred moments after takeoff. A Senate Commerce Committee panel will hold a hearing Wednesday to question FAA Acting Administration Daniel Elwell and Transportation Department Inspector General Calvin Scovel The officials are expected to face questions from lawmakers on the FAA's certification of the 737 MAX and whether regulators have become too cozy with the company, and fast-tracked some approvals. The session is expected to be followed by a second hearing at a later date with Boeing, airline pilots and other stakeholders, the committee said.\n"
     ]
    }
   ],
   "source": [
    "print(stripped_new)\n",
    "print(word_dict)\n",
    "\n",
    "#for i in range(0,len(stripped_new)):\n",
    "#    for temp in word_dict.keys():\n",
    "#        if stripped_new[i] in word_dict[temp]:\n",
    "#            stripped_new[i]=str(temp)\n",
    "for word in stripped_new.split(\" \"):\n",
    "    for k,v in word_dict.items():\n",
    "        if word == v:\n",
    "            stripped_new=stripped_new.replace(word,k)\n",
    "print(stripped_new)"
   ]
  },
  {
   "cell_type": "code",
   "execution_count": 9,
   "metadata": {},
   "outputs": [],
   "source": [
    "data_temp=\"\"\n",
    "for i in stripped_new.split(\" \"):\n",
    "    data_temp=data_temp+\" \"+i"
   ]
  },
  {
   "cell_type": "code",
   "execution_count": 10,
   "metadata": {},
   "outputs": [
    {
     "name": "stdout",
     "output_type": "stream",
     "text": [
      " A Boeing 737 MAX aircraft operated by Southwest Airlines made an emergency landing on Tuesday after experiencing an engine problem as it was being ferried from Florida to California, the US Federal Aviation Agency said. \"The aircraft returned and landed safely in Orlando,\" the FAA said in a statement, adding that no passengers were on board the aircraft, which was being transferred to Victorville, California for storage. \"The FAA is investigating,\" added the agency, which grounded the Boeing 737 MAX on March 13 following two deadly accidents involving Ethiopian Airlines and Lion Air but continues to allow the planes to be ferried from airport to airport. Southwest said the plane experienced an engine problem \"shortly after takeoff.\" \"The crew followed protocol and safely landed back at the airport\" around 3:00 pm (1900 GMT), spokesman Chris Mainz said. \"The Boeing 737 MAX 8 will be moved to our Orlando maintenance facility for a review.\" It was the latest setback for Boeing's flagship narrow-body plane following October's Lion Air crash and the Ethiopian Airlines accident earlier this month, which together killed 346 people. The accidents, which shared similarities, led authorities across the world to ground the aircraft. Boeing has since conducted test flights of its 737 MAX to evaluate a fix for the MCAS stall prevention system targeted as a potential cause for the deadly crashes, two sources familiar with the matter said. The system has been criticized since it can malfunction and make it difficult for pilots to control the aircraft. Both of the recent crashes occurred moments after takeoff. A Senate Commerce Committee panel will hold a hearing Wednesday to question FAA Acting Administration Daniel Elwell and Transportation Department Inspector General Calvin Scovel The officials are expected to face questions from lawmakers on the FAA's certification of the 737 MAX and whether regulators have become too cozy with the company, and fast-tracked some approvals. The session is expected to be followed by a second hearing at a later date with Boeing, airline pilots and other stakeholders, the committee said.\n"
     ]
    }
   ],
   "source": [
    "print(data_temp)"
   ]
  },
  {
   "cell_type": "code",
   "execution_count": 11,
   "metadata": {},
   "outputs": [
    {
     "data": {
      "text/plain": [
       "str"
      ]
     },
     "execution_count": 11,
     "metadata": {},
     "output_type": "execute_result"
    }
   ],
   "source": [
    "type(data_temp)"
   ]
  },
  {
   "cell_type": "code",
   "execution_count": 12,
   "metadata": {},
   "outputs": [],
   "source": [
    "def remove_string_special_character(s):\n",
    "    stripped=re.sub('[^\\w\\s]','',s)\n",
    "    stripped=re.sub('_','',stripped)\n",
    "    stripped=re.sub('\\s+',' ',stripped)\n",
    "    stripped=stripped.strip()\n",
    "    return stripped"
   ]
  },
  {
   "cell_type": "code",
   "execution_count": 13,
   "metadata": {},
   "outputs": [],
   "source": [
    "def get_doc(sent):\n",
    "    doc_info=[]\n",
    "    i=0\n",
    "    for sen in sent:\n",
    "        i+=1\n",
    "        count=count_words(sen)\n",
    "        temp={'doc_id':i,'doc_length':count}\n",
    "        doc_info.append(temp)\n",
    "    return doc_info"
   ]
  },
  {
   "cell_type": "code",
   "execution_count": 14,
   "metadata": {},
   "outputs": [],
   "source": [
    "def count_words(sent):\n",
    "    count=0\n",
    "    sen=word_tokenize(sent)\n",
    "    for i in sen:\n",
    "        count+=1\n",
    "    return count"
   ]
  },
  {
   "cell_type": "code",
   "execution_count": 15,
   "metadata": {},
   "outputs": [],
   "source": [
    "def create_freq_dict(sents):\n",
    "    i=0\n",
    "    freqDict_list=[]\n",
    "    for sent in sents:\n",
    "        i+=1\n",
    "        freq_dict={}\n",
    "        words=word_tokenize(sent)\n",
    "        for word in words:\n",
    "            word=word.lower()\n",
    "            if word in freq_dict:\n",
    "                freq_dict[word]+=1\n",
    "            else:\n",
    "                freq_dict[word]=1\n",
    "            temp={'doc_id':i,'freq_dict':freq_dict}\n",
    "        freqDict_list.append(temp)\n",
    "    return freqDict_list"
   ]
  },
  {
   "cell_type": "code",
   "execution_count": 16,
   "metadata": {},
   "outputs": [],
   "source": [
    "def computeTF(doc_info,freqDict_List):\n",
    "    TF_scores=[]\n",
    "    for tempDict in freqDict_list:\n",
    "        ident= tempDict['doc_id']\n",
    "        for k in tempDict['freq_dict']:\n",
    "            temp={'doc_id':ident,'TF_score':tempDict['freq_dict'][k]/(doc_info[ident-1]['doc_length']),'key':k}\n",
    "            TF_scores.append(temp)\n",
    "    return TF_scores"
   ]
  },
  {
   "cell_type": "code",
   "execution_count": 17,
   "metadata": {},
   "outputs": [],
   "source": [
    "def computeIDF(doc_info,freqDict_list):\n",
    "    IDF_scores=[]\n",
    "    counter=0\n",
    "    for dict in freqDict_list:\n",
    "        counter+=1\n",
    "        for k in dict['freq_dict'].keys():\n",
    "            count=sum([k in tempDict['freq_dict'] for tempDict in freqDict_list])\n",
    "            temp={'doc_id':counter,'IDF_score' :math.log(len(doc_info)/count),'key':k}\n",
    "            IDF_scores.append(temp)\n",
    "    return IDF_scores"
   ]
  },
  {
   "cell_type": "code",
   "execution_count": 18,
   "metadata": {},
   "outputs": [],
   "source": [
    "def computeTFIDF(TF_scores,IDF_scores):\n",
    "    TFIDF_scores=[]\n",
    "    for j in IDF_scores:\n",
    "        for i in TF_scores:\n",
    "            if j['key']==i['key'] and j['doc_id']==i['doc_id']:\n",
    "                temp={'doc_id':j['doc_id'],'TFIDF_score':j['IDF_score']*i['TF_score']*10,'key':i['key']}\n",
    "        TFIDF_scores.append(temp)\n",
    "    return TFIDF_scores"
   ]
  },
  {
   "cell_type": "code",
   "execution_count": 19,
   "metadata": {},
   "outputs": [
    {
     "name": "stdout",
     "output_type": "stream",
     "text": [
      "[' A Boeing 737 MAX aircraft operated by Southwest Airlines made an emergency landing on Tuesday after experiencing an engine problem as it was being ferried from Florida to California, the US Federal Aviation Agency said.', '\"The aircraft returned and landed safely in Orlando,\" the FAA said in a statement, adding that no passengers were on board the aircraft, which was being transferred to Victorville, California for storage.', '\"The FAA is investigating,\" added the agency, which grounded the Boeing 737 MAX on March 13 following two deadly accidents involving Ethiopian Airlines and Lion Air but continues to allow the planes to be ferried from airport to airport.', 'Southwest said the plane experienced an engine problem \"shortly after takeoff.\"', '\"The crew followed protocol and safely landed back at the airport\" around 3:00 pm (1900 GMT), spokesman Chris Mainz said.', '\"The Boeing 737 MAX 8 will be moved to our Orlando maintenance facility for a review.\"', \"It was the latest setback for Boeing's flagship narrow-body plane following October's Lion Air crash and the Ethiopian Airlines accident earlier this month, which together killed 346 people.\", 'The accidents, which shared similarities, led authorities across the world to ground the aircraft.', 'Boeing has since conducted test flights of its 737 MAX to evaluate a fix for the MCAS stall prevention system targeted as a potential cause for the deadly crashes, two sources familiar with the matter said.', 'The system has been criticized since it can malfunction and make it difficult for pilots to control the aircraft.', 'Both of the recent crashes occurred moments after takeoff.', \"A Senate Commerce Committee panel will hold a hearing Wednesday to question FAA Acting Administration Daniel Elwell and Transportation Department Inspector General Calvin Scovel The officials are expected to face questions from lawmakers on the FAA's certification of the 737 MAX and whether regulators have become too cozy with the company, and fast-tracked some approvals.\", 'The session is expected to be followed by a second hearing at a later date with Boeing, airline pilots and other stakeholders, the committee said.']\n",
      "['A Boeing 737 MAX aircraft operated by Southwest Airlines made an emergency landing on Tuesday after experiencing an engine problem as it was being ferried from Florida to California the US Federal Aviation Agency said', 'The aircraft returned and landed safely in Orlando the FAA said in a statement adding that no passengers were on board the aircraft which was being transferred to Victorville California for storage', 'The FAA is investigating added the agency which grounded the Boeing 737 MAX on March 13 following two deadly accidents involving Ethiopian Airlines and Lion Air but continues to allow the planes to be ferried from airport to airport', 'Southwest said the plane experienced an engine problem shortly after takeoff', 'The crew followed protocol and safely landed back at the airport around 300 pm 1900 GMT spokesman Chris Mainz said', 'The Boeing 737 MAX 8 will be moved to our Orlando maintenance facility for a review', 'It was the latest setback for Boeings flagship narrowbody plane following Octobers Lion Air crash and the Ethiopian Airlines accident earlier this month which together killed 346 people', 'The accidents which shared similarities led authorities across the world to ground the aircraft', 'Boeing has since conducted test flights of its 737 MAX to evaluate a fix for the MCAS stall prevention system targeted as a potential cause for the deadly crashes two sources familiar with the matter said', 'The system has been criticized since it can malfunction and make it difficult for pilots to control the aircraft', 'Both of the recent crashes occurred moments after takeoff', 'A Senate Commerce Committee panel will hold a hearing Wednesday to question FAA Acting Administration Daniel Elwell and Transportation Department Inspector General Calvin Scovel The officials are expected to face questions from lawmakers on the FAAs certification of the 737 MAX and whether regulators have become too cozy with the company and fasttracked some approvals', 'The session is expected to be followed by a second hearing at a later date with Boeing airline pilots and other stakeholders the committee said']\n",
      "[{'doc_id': 1, 'doc_length': 35}, {'doc_id': 2, 'doc_length': 32}, {'doc_id': 3, 'doc_length': 39}, {'doc_id': 4, 'doc_length': 11}, {'doc_id': 5, 'doc_length': 20}, {'doc_id': 6, 'doc_length': 16}, {'doc_id': 7, 'doc_length': 28}, {'doc_id': 8, 'doc_length': 14}, {'doc_id': 9, 'doc_length': 36}, {'doc_id': 10, 'doc_length': 19}, {'doc_id': 11, 'doc_length': 9}, {'doc_id': 12, 'doc_length': 55}, {'doc_id': 13, 'doc_length': 25}]\n"
     ]
    }
   ],
   "source": [
    "text_sents=sent_tokenize(data_temp)\n",
    "print(text_sents)\n",
    "sent=[remove_string_special_character(s) for s in text_sents]\n",
    "print(sent)\n",
    "doc_info=get_doc(sent)\n",
    "print(doc_info)"
   ]
  },
  {
   "cell_type": "code",
   "execution_count": 20,
   "metadata": {},
   "outputs": [
    {
     "name": "stdout",
     "output_type": "stream",
     "text": [
      "[{'doc_id': 1, 'freq_dict': {'a': 1, 'boeing': 1, '737': 1, 'max': 1, 'aircraft': 1, 'operated': 1, 'by': 1, 'southwest': 1, 'airlines': 1, 'made': 1, 'an': 2, 'emergency': 1, 'landing': 1, 'on': 1, 'tuesday': 1, 'after': 1, 'experiencing': 1, 'engine': 1, 'problem': 1, 'as': 1, 'it': 1, 'was': 1, 'being': 1, 'ferried': 1, 'from': 1, 'florida': 1, 'to': 1, 'california': 1, 'the': 1, 'us': 1, 'federal': 1, 'aviation': 1, 'agency': 1, 'said': 1}}, {'doc_id': 2, 'freq_dict': {'the': 3, 'aircraft': 2, 'returned': 1, 'and': 1, 'landed': 1, 'safely': 1, 'in': 2, 'orlando': 1, 'faa': 1, 'said': 1, 'a': 1, 'statement': 1, 'adding': 1, 'that': 1, 'no': 1, 'passengers': 1, 'were': 1, 'on': 1, 'board': 1, 'which': 1, 'was': 1, 'being': 1, 'transferred': 1, 'to': 1, 'victorville': 1, 'california': 1, 'for': 1, 'storage': 1}}, {'doc_id': 3, 'freq_dict': {'the': 4, 'faa': 1, 'is': 1, 'investigating': 1, 'added': 1, 'agency': 1, 'which': 1, 'grounded': 1, 'boeing': 1, '737': 1, 'max': 1, 'on': 1, 'march': 1, '13': 1, 'following': 1, 'two': 1, 'deadly': 1, 'accidents': 1, 'involving': 1, 'ethiopian': 1, 'airlines': 1, 'and': 1, 'lion': 1, 'air': 1, 'but': 1, 'continues': 1, 'to': 3, 'allow': 1, 'planes': 1, 'be': 1, 'ferried': 1, 'from': 1, 'airport': 2}}, {'doc_id': 4, 'freq_dict': {'southwest': 1, 'said': 1, 'the': 1, 'plane': 1, 'experienced': 1, 'an': 1, 'engine': 1, 'problem': 1, 'shortly': 1, 'after': 1, 'takeoff': 1}}, {'doc_id': 5, 'freq_dict': {'the': 2, 'crew': 1, 'followed': 1, 'protocol': 1, 'and': 1, 'safely': 1, 'landed': 1, 'back': 1, 'at': 1, 'airport': 1, 'around': 1, '300': 1, 'pm': 1, '1900': 1, 'gmt': 1, 'spokesman': 1, 'chris': 1, 'mainz': 1, 'said': 1}}, {'doc_id': 6, 'freq_dict': {'the': 1, 'boeing': 1, '737': 1, 'max': 1, '8': 1, 'will': 1, 'be': 1, 'moved': 1, 'to': 1, 'our': 1, 'orlando': 1, 'maintenance': 1, 'facility': 1, 'for': 1, 'a': 1, 'review': 1}}, {'doc_id': 7, 'freq_dict': {'it': 1, 'was': 1, 'the': 2, 'latest': 1, 'setback': 1, 'for': 1, 'boeings': 1, 'flagship': 1, 'narrowbody': 1, 'plane': 1, 'following': 1, 'octobers': 1, 'lion': 1, 'air': 1, 'crash': 1, 'and': 1, 'ethiopian': 1, 'airlines': 1, 'accident': 1, 'earlier': 1, 'this': 1, 'month': 1, 'which': 1, 'together': 1, 'killed': 1, '346': 1, 'people': 1}}, {'doc_id': 8, 'freq_dict': {'the': 3, 'accidents': 1, 'which': 1, 'shared': 1, 'similarities': 1, 'led': 1, 'authorities': 1, 'across': 1, 'world': 1, 'to': 1, 'ground': 1, 'aircraft': 1}}, {'doc_id': 9, 'freq_dict': {'boeing': 1, 'has': 1, 'since': 1, 'conducted': 1, 'test': 1, 'flights': 1, 'of': 1, 'its': 1, '737': 1, 'max': 1, 'to': 1, 'evaluate': 1, 'a': 2, 'fix': 1, 'for': 2, 'the': 3, 'mcas': 1, 'stall': 1, 'prevention': 1, 'system': 1, 'targeted': 1, 'as': 1, 'potential': 1, 'cause': 1, 'deadly': 1, 'crashes': 1, 'two': 1, 'sources': 1, 'familiar': 1, 'with': 1, 'matter': 1, 'said': 1}}, {'doc_id': 10, 'freq_dict': {'the': 2, 'system': 1, 'has': 1, 'been': 1, 'criticized': 1, 'since': 1, 'it': 2, 'can': 1, 'malfunction': 1, 'and': 1, 'make': 1, 'difficult': 1, 'for': 1, 'pilots': 1, 'to': 1, 'control': 1, 'aircraft': 1}}, {'doc_id': 11, 'freq_dict': {'both': 1, 'of': 1, 'the': 1, 'recent': 1, 'crashes': 1, 'occurred': 1, 'moments': 1, 'after': 1, 'takeoff': 1}}, {'doc_id': 12, 'freq_dict': {'a': 2, 'senate': 1, 'commerce': 1, 'committee': 1, 'panel': 1, 'will': 1, 'hold': 1, 'hearing': 1, 'wednesday': 1, 'to': 2, 'question': 1, 'faa': 1, 'acting': 1, 'administration': 1, 'daniel': 1, 'elwell': 1, 'and': 3, 'transportation': 1, 'department': 1, 'inspector': 1, 'general': 1, 'calvin': 1, 'scovel': 1, 'the': 4, 'officials': 1, 'are': 1, 'expected': 1, 'face': 1, 'questions': 1, 'from': 1, 'lawmakers': 1, 'on': 1, 'faas': 1, 'certification': 1, 'of': 1, '737': 1, 'max': 1, 'whether': 1, 'regulators': 1, 'have': 1, 'become': 1, 'too': 1, 'cozy': 1, 'with': 1, 'company': 1, 'fasttracked': 1, 'some': 1, 'approvals': 1}}, {'doc_id': 13, 'freq_dict': {'the': 2, 'session': 1, 'is': 1, 'expected': 1, 'to': 1, 'be': 1, 'followed': 1, 'by': 1, 'a': 2, 'second': 1, 'hearing': 1, 'at': 1, 'later': 1, 'date': 1, 'with': 1, 'boeing': 1, 'airline': 1, 'pilots': 1, 'and': 1, 'other': 1, 'stakeholders': 1, 'committee': 1, 'said': 1}}]\n"
     ]
    }
   ],
   "source": [
    "freqDict_list=create_freq_dict(sent)\n",
    "print(freqDict_list)\n",
    "TF_scores=computeTF(doc_info,freqDict_list)\n",
    "IDF_scores=computeIDF(doc_info,freqDict_list)"
   ]
  },
  {
   "cell_type": "code",
   "execution_count": 21,
   "metadata": {},
   "outputs": [],
   "source": [
    "TFIDF_scores=computeTFIDF(TF_scores,IDF_scores)"
   ]
  },
  {
   "cell_type": "code",
   "execution_count": 22,
   "metadata": {},
   "outputs": [],
   "source": [
    "def get_sent_score(TFIDF_scores,sent,doc_info):\n",
    "    sent_info=[]\n",
    "    for doc in doc_info:\n",
    "        sent_score=0\n",
    "        for i in range(0,len(TFIDF_scores)):\n",
    "            temp_dict=TFIDF_scores[i]\n",
    "            if doc['doc_id']== temp_dict['doc_id']:\n",
    "                sent_score+=temp_dict['TFIDF_score']\n",
    "        temp={'doc_id':doc['doc_id'],'sent_score':sent_score,'sentence': sent[doc['doc_id']-1]}\n",
    "        sent_info.append(temp)\n",
    "\n",
    "    return sent_info"
   ]
  },
  {
   "cell_type": "code",
   "execution_count": 23,
   "metadata": {},
   "outputs": [],
   "source": [
    "sentence_info=get_sent_score(TFIDF_scores,sent,doc_info)"
   ]
  },
  {
   "cell_type": "code",
   "execution_count": 24,
   "metadata": {},
   "outputs": [],
   "source": [
    "def get_summary(sentence_info):\n",
    "    sum=0\n",
    "    summary=[]\n",
    "    array=[]\n",
    "    for temp in sentence_info:\n",
    "        sum+=temp['sent_score']\n",
    "    avg=sum/len(sentence_info)\n",
    "    for temp in sentence_info:\n",
    "        array.append(temp['sent_score'])\n",
    "    #stdev=statistics.stdev(array)\n",
    "    for sent in sentence_info:\n",
    "        if(sent['sent_score'])>=avg:\n",
    "            summary.append(sent['sentence'])\n",
    "    summary='\\n'.join(summary)\n",
    "    return summary\n",
    "    print(sentence)"
   ]
  },
  {
   "cell_type": "code",
   "execution_count": 25,
   "metadata": {},
   "outputs": [
    {
     "name": "stdout",
     "output_type": "stream",
     "text": [
      "The crew followed protocol and safely landed back at the airport around 300 pm 1900 GMT spokesman Chris Mainz said\n",
      "It was the latest setback for Boeings flagship narrowbody plane following Octobers Lion Air crash and the Ethiopian Airlines accident earlier this month which together killed 346 people\n",
      "Both of the recent crashes occurred moments after takeoff\n",
      "A Senate Commerce Committee panel will hold a hearing Wednesday to question FAA Acting Administration Daniel Elwell and Transportation Department Inspector General Calvin Scovel The officials are expected to face questions from lawmakers on the FAAs certification of the 737 MAX and whether regulators have become too cozy with the company and fasttracked some approvals\n"
     ]
    }
   ],
   "source": [
    "summary =get_summary(sentence_info)\n",
    "print(summary)"
   ]
  },
  {
   "cell_type": "code",
   "execution_count": null,
   "metadata": {},
   "outputs": [],
   "source": []
  },
  {
   "cell_type": "code",
   "execution_count": null,
   "metadata": {},
   "outputs": [],
   "source": []
  }
 ],
 "metadata": {
  "kernelspec": {
   "display_name": "Python 3",
   "language": "python",
   "name": "python3"
  },
  "language_info": {
   "codemirror_mode": {
    "name": "ipython",
    "version": 3
   },
   "file_extension": ".py",
   "mimetype": "text/x-python",
   "name": "python",
   "nbconvert_exporter": "python",
   "pygments_lexer": "ipython3",
   "version": "3.7.1"
  }
 },
 "nbformat": 4,
 "nbformat_minor": 2
}
