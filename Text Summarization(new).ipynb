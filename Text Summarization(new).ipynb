{
 "cells": [
  {
   "cell_type": "code",
   "execution_count": 1,
   "metadata": {},
   "outputs": [],
   "source": [
    "import numpy as np\n",
    "import pandas as pd\n",
    "from nltk.corpus import stopwords\n",
    "from nltk.tokenize import word_tokenize\n",
    "from sklearn.feature_extraction.text import CountVectorizer\n",
    "import re\n",
    "import string\n",
    "import matplotlib.pyplot as plt\n",
    "\n",
    "from nltk.stem import WordNetLemmatizer \n",
    "lemmatizer = WordNetLemmatizer() \n",
    "from nltk.stem.porter import PorterStemmer\n",
    "porter_stemmer = PorterStemmer()"
   ]
  },
  {
   "cell_type": "code",
   "execution_count": 2,
   "metadata": {},
   "outputs": [],
   "source": [
    "train_data='''Congress President Rahul Gandhi Friday slammed Prime Minister Narendra Modi alleging he ran his government for 15 of his friends and he wondered why no big-ticket defaulters of bank loans like Vijay Mallya were not in jail. The Congress chief said the ones like Nirav Modi and Vijay Mallya, after taking bank loans, failed to return it and ran away from the country. \"Not even a single one is in jail,\" he added. Gandhi said when his party is voted to power, no farmer \"is going to be put in jail for not paying back his bank loan, it is not fair that the richest people do not go to jail but farmers go to jail for the same offence\". He alleged the Prime Minister gave Rs 35,0000 crore to Nirav Modi, Rs 35,000 crore to Mehul Choksi and Rs 10,000 crore to Vijay Mallya. During the last five years, Modi ran a government for 15 people and you know the names, he said. \"These are Anil Ambani, Mehul Choksi, Nirav Modi and they are Modi's friends,\" he said addressing a poll rally here. Focusing on his party's Minimum Income Support Scheme 'Nyay,' he said it would give purchasing power to the people and that in turn would propel factories in Tamil Nadu and the overall economy. Textile and silk hubs of Tamil Nadu, Tirupur and Kancheepuram \"will become live,\" again and provide employment opportunities to youngsters, he said. Gandhi said his party and its allies will never allow Tamil Nadu people to be ruled by Nagpur (the RSS) and expressed confidence that DMK chief M K Stalin will soon be the Chief Minister of the State.\"'''\n",
    "train_data=train_data.replace('!','.')\n",
    "train_data=train_data.replace('?','.')\n",
    "\n",
    "\n",
    "\n"
   ]
  },
  {
   "cell_type": "code",
   "execution_count": 21,
   "metadata": {},
   "outputs": [],
   "source": [
    "train_data_lower=train_data.lower()\n",
    "split_data=train_data_lower.split('.')\n",
    "tokens=word_tokenize(train_data_lower)\n",
    "stopWords=stopwords.words(\"english\")+list(string.punctuation)+['The','the',\"A\",\"a\",\"\\'\"]\n",
    "special_chars=[',','.','/','\"','?','!',';',',',',',\"'\",'\"']\n",
    "count_vect=CountVectorizer(input=tokens,lowercase=True,stop_words='english',min_df=2)\n",
    "for token in word_tokenize(train_data_lower):\n",
    "    if token in stopWords or token=='the':\n",
    "        tokens.remove(token)\n",
    "for token in tokens:\n",
    "    if token in special_chars:\n",
    "        tokens.remove(token)\n",
    "\n",
    "tot_length=int(tokens.count(max(tokens,key=tokens.count)))\n",
    "weight={}\n",
    "weight_sent={}\n",
    "\n",
    "\n",
    "###remove redundant tokens\n",
    "def red_tokens(tokens):\n",
    "    tokens=list(set(tokens))\n",
    "        \n",
    "###calculation of the weights\n",
    "def calc_weights(tokens):\n",
    "    for token in tokens:\n",
    "        weight[token]=tokens.count(token)/tot_length"
   ]
  },
  {
   "cell_type": "code",
   "execution_count": 22,
   "metadata": {},
   "outputs": [
    {
     "name": "stdout",
     "output_type": "stream",
     "text": [
      "query(comma seperated, NA if none) Mallya\n",
      "Mallya\n",
      "inside\n",
      "{'congress': 0.2857142857142857, 'president': 0.14285714285714285, 'rahul': 0.14285714285714285, 'gandhi': 0.42857142857142855, 'friday': 0.14285714285714285, 'slammed': 0.14285714285714285, 'prime': 0.2857142857142857, 'minister': 0.42857142857142855, 'narendra': 0.14285714285714285, 'modi': 0.8571428571428571, 'alleging': 0.14285714285714285, 'ran': 0.42857142857142855, 'government': 0.2857142857142857, '15': 0.2857142857142857, 'friends': 0.2857142857142857, 'wondered': 0.14285714285714285, 'big-ticket': 0.14285714285714285, 'defaulters': 0.14285714285714285, 'bank': 0.42857142857142855, 'loans': 0.2857142857142857, 'like': 0.2857142857142857, 'vijay': 0.42857142857142855, 'mallya': 0.42857142857142855, 'jail': 0.7142857142857143, 'chief': 0.42857142857142855, 'said': 1.0, 'ones': 0.14285714285714285, 'nirav': 0.42857142857142855, 'taking': 0.14285714285714285, 'failed': 0.14285714285714285, 'return': 0.14285714285714285, 'away': 0.14285714285714285, 'country': 0.14285714285714285, '``': 0.5714285714285714, 'even': 0.14285714285714285, 'single': 0.14285714285714285, 'one': 0.14285714285714285, \"''\": 0.7142857142857143, 'added': 0.14285714285714285, 'party': 0.42857142857142855, 'voted': 0.14285714285714285, 'power': 0.2857142857142857, 'farmer': 0.14285714285714285, 'going': 0.14285714285714285, 'put': 0.14285714285714285, 'paying': 0.14285714285714285, 'back': 0.14285714285714285, 'loan': 0.14285714285714285, 'fair': 0.14285714285714285, 'richest': 0.14285714285714285, 'people': 0.5714285714285714, 'go': 0.2857142857142857, 'farmers': 0.14285714285714285, 'offence': 0.14285714285714285, 'alleged': 0.14285714285714285, 'gave': 0.14285714285714285, 'rs': 0.42857142857142855, '35,0000': 0.14285714285714285, 'crore': 0.42857142857142855, '35,000': 0.14285714285714285, 'mehul': 0.2857142857142857, 'choksi': 0.2857142857142857, '10,000': 0.14285714285714285, 'last': 0.14285714285714285, 'five': 0.14285714285714285, 'years': 0.14285714285714285, 'know': 0.14285714285714285, 'names': 0.14285714285714285, 'anil': 0.14285714285714285, 'ambani': 0.14285714285714285, \"'s\": 0.2857142857142857, 'addressing': 0.14285714285714285, 'poll': 0.14285714285714285, 'rally': 0.14285714285714285, 'focusing': 0.14285714285714285, 'minimum': 0.14285714285714285, 'income': 0.14285714285714285, 'support': 0.14285714285714285, 'scheme': 0.14285714285714285, \"'nyay\": 0.14285714285714285, 'would': 0.2857142857142857, 'give': 0.14285714285714285, 'purchasing': 0.14285714285714285, 'turn': 0.14285714285714285, 'propel': 0.14285714285714285, 'factories': 0.14285714285714285, 'tamil': 0.42857142857142855, 'nadu': 0.42857142857142855, 'overall': 0.14285714285714285, 'economy': 0.14285714285714285, 'textile': 0.14285714285714285, 'silk': 0.14285714285714285, 'hubs': 0.14285714285714285, 'tirupur': 0.14285714285714285, 'kancheepuram': 0.14285714285714285, 'become': 0.14285714285714285, 'live': 0.14285714285714285, 'provide': 0.14285714285714285, 'employment': 0.14285714285714285, 'opportunities': 0.14285714285714285, 'youngsters': 0.14285714285714285, 'allies': 0.14285714285714285, 'never': 0.14285714285714285, 'allow': 0.14285714285714285, 'ruled': 0.14285714285714285, 'nagpur': 0.14285714285714285, 'rss': 0.14285714285714285, 'expressed': 0.14285714285714285, 'confidence': 0.14285714285714285, 'dmk': 0.14285714285714285, 'k': 0.14285714285714285, 'stalin': 0.14285714285714285, 'soon': 0.14285714285714285, 'state': 0.14285714285714285, 'Mallya': 11.0}\n"
     ]
    }
   ],
   "source": [
    "red_tokens(tokens)\n",
    "calc_weights(tokens)\n",
    "query_weight=max(weight.values())+10\n",
    "query=input(\"query(comma seperated, NA if none) \")\n",
    "query_=[]\n",
    "print(query)\n",
    "if query != \"NA\":\n",
    "    print(\"inside\")\n",
    "    query_=query.split(\",\")\n",
    "    for i in query_:\n",
    "        weight[i]=query_weight\n",
    "else:\n",
    "    pass\n",
    "print(weight)"
   ]
  },
  {
   "cell_type": "code",
   "execution_count": 23,
   "metadata": {},
   "outputs": [
    {
     "name": "stdout",
     "output_type": "stream",
     "text": [
      "{'congress president rahul gandhi friday slammed prime minister narendra modi alleging he ran his government for 15 of his friends and he wondered why no big-ticket defaulters of bank loans like vijay mallya were not in jail': 7.42857142857143, ' the congress chief said the ones like nirav modi and vijay mallya, after taking bank loans, failed to return it and ran away from the country': 5.42857142857143, ' \"not even a single one is in jail,\" he added': 0.5714285714285714, ' gandhi said when his party is voted to power, no farmer \"is going to be put in jail for not paying back his bank loan, it is not fair that the richest people do not go to jail but farmers go to jail for the same offence\"': 6.857142857142857, ' he alleged the prime minister gave rs 35,0000 crore to nirav modi, rs 35,000 crore to mehul choksi and rs 10,000 crore to vijay mallya': 5.857142857142858, ' during the last five years, modi ran a government for 15 people and you know the names, he said': 3.857142857142857, ' \"these are anil ambani, mehul choksi, nirav modi and they are modi\\'s friends,\" he said addressing a poll rally here': 3.142857142857143, \" focusing on his party's minimum income support scheme 'nyay,' he said it would give purchasing power to the people and that in turn would propel factories in tamil nadu and the overall economy\": 5.0, ' textile and silk hubs of tamil nadu, tirupur and kancheepuram \"will become live,\" again and provide employment opportunities to youngsters, he said': 2.714285714285714, ' gandhi said his party and its allies will never allow tamil nadu people to be ruled by nagpur (the rss) and expressed confidence that dmk chief m k stalin will soon be the chief minister of the state': 6.285714285714288, '\"': 0}\n"
     ]
    }
   ],
   "source": [
    "count=0\n",
    "for sent in split_data:\n",
    "    count=0\n",
    "    split=sent.split(' ')\n",
    "    for word in split:\n",
    "        if word in tokens:\n",
    "            count=count+weight[word]\n",
    "    weight_sent[sent]=count\n",
    "print(weight_sent)"
   ]
  },
  {
   "cell_type": "code",
   "execution_count": 24,
   "metadata": {},
   "outputs": [
    {
     "data": {
      "image/png": "[encoded data removed]",
      "text/plain": [
       "<Figure size 432x288 with 1 Axes>"
      ]
     },
     "metadata": {
      "needs_background": "light"
     },
     "output_type": "display_data"
    }
   ],
   "source": [
    "y_pos = np.arange(len(weight))\n",
    "performance=list(weight.values())\n",
    "\n",
    "weight_=sorted(weight,key=weight.get,reverse=True)\n",
    "weight_=weight_[0:5]\n",
    "weight_val=[]\n",
    "for i in weight_:\n",
    "    weight_val.append(weight[i])\n",
    "\n",
    "plt.bar(weight_, weight_val, align='center', alpha=0.5)\n",
    "plt.show()"
   ]
  },
  {
   "cell_type": "code",
   "execution_count": 25,
   "metadata": {},
   "outputs": [
    {
     "name": "stdout",
     "output_type": "stream",
     "text": [
      "congress president rahul gandhi friday slammed prime minister narendra modi alleging he ran his government for 15 of his friends and he wondered why no big-ticket defaulters of bank loans like vijay mallya were not in jail . \n",
      " gandhi said when his party is voted to power, no farmer \"is going to be put in jail for not paying back his bank loan, it is not fair that the richest people do not go to jail but farmers go to jail for the same offence\" . \n",
      " gandhi said his party and its allies will never allow tamil nadu people to be ruled by nagpur (the rss) and expressed confidence that dmk chief m k stalin will soon be the chief minister of the state . \n"
     ]
    }
   ],
   "source": [
    "threshold=3\n",
    "selected=sorted(list(weight_sent.values()),reverse=True)[0:threshold]\n",
    "for sent,weight in weight_sent.items():\n",
    "    if weight in selected:\n",
    "        print(sent,\". \")\n"
   ]
  },
  {
   "cell_type": "code",
   "execution_count": null,
   "metadata": {},
   "outputs": [],
   "source": []
  },
  {
   "cell_type": "code",
   "execution_count": null,
   "metadata": {},
   "outputs": [],
   "source": []
  }
 ],
 "metadata": {
  "kernelspec": {
   "display_name": "Python 3",
   "language": "python",
   "name": "python3"
  },
  "language_info": {
   "codemirror_mode": {
    "name": "ipython",
    "version": 3
   },
   "file_extension": ".py",
   "mimetype": "text/x-python",
   "name": "python",
   "nbconvert_exporter": "python",
   "pygments_lexer": "ipython3",
   "version": "3.7.1"
  }
 },
 "nbformat": 4,
 "nbformat_minor": 2
}
