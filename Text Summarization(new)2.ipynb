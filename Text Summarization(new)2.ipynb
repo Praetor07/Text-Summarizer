{
 "cells": [
  {
   "cell_type": "code",
   "execution_count": 15,
   "metadata": {},
   "outputs": [],
   "source": [
    "import numpy as np\n",
    "import pandas as pd\n",
    "from nltk.corpus import stopwords\n",
    "from nltk.tokenize import word_tokenize\n",
    "from sklearn.feature_extraction.text import CountVectorizer\n",
    "import re\n",
    "import string\n",
    "import matplotlib.pyplot as plt"
   ]
  },
  {
   "cell_type": "code",
   "execution_count": 22,
   "metadata": {},
   "outputs": [],
   "source": [
    "#train_data='''Congress President Rahul Gandhi Friday slammed Prime Minister Narendra Modi alleging he ran his government for 15 of his friends and he wondered why no big-ticket defaulters of bank loans like Vijay Mallya were not in jail. The Congress chief said the ones like Nirav Modi and Vijay Mallya, after taking bank loans, failed to return it and ran away from the country. \"Not even a single one is in jail,\" he added. Gandhi said when his party is voted to power, no farmer \"is going to be put in jail for not paying back his bank loan, it is not fair that the richest people do not go to jail but farmers go to jail for the same offence\". He alleged the Prime Minister gave Rs 35,0000 crore to Nirav Modi, Rs 35,000 crore to Mehul Choksi and Rs 10,000 crore to Vijay Mallya. During the last five years, Modi ran a government for 15 people and you know the names, he said. \"These are Anil Ambani, Mehul Choksi, Nirav Modi and they are Modi's friends,\" he said addressing a poll rally here. Focusing on his party's Minimum Income Support Scheme 'Nyay,' he said it would give purchasing power to the people and that in turn would propel factories in Tamil Nadu and the overall economy. Textile and silk hubs of Tamil Nadu, Tirupur and Kancheepuram \"will become live,\" again and provide employment opportunities to youngsters, he said. Gandhi said his party and its allies will never allow Tamil Nadu people to be ruled by Nagpur (the RSS) and expressed confidence that DMK chief M K Stalin will soon be the Chief Minister of the State.\"'''\n",
    "#train_data='''El mundo conoció este miércoles un poco mejor cómo es un agujero negro, uno de los objetos más misteriosos y sugerentes del Universo. Este logro, también ha puesto sobre la mesa el talento femenino en la ciencia. Y es que detrás de la histórica imagen, hay una mujer. Aunque fue un logro que se consiguió en equipo, la líder del proyecto fue una joven de 29 años, según informa el Laboratorio de Ciencias de la Computación e Inteligencia Artificial del Instituto Tecnológico de Massachusetts (MIT). Fue la informática Katie Bouman, estudiante graduada del MIT, la persona que lideró la creación de un nuevo algoritmo que hizo posible captar la histórica fotografía. La joven no pudo contener la emoción y compartió ese momento en sus redes sociales. La imagen muestra un halo de polvo y gas que se encuentra a 53,3 millones de años luz de la Tierra, en el centro de la galaxia M87. “Estoy tan emocionada de que finalmente podamos compartir lo que hemos estado trabajando durante el año pasado”, ha dicho la científica en un mensaje en Facebook para agradecer a todo el equipo de científicos de todo el mundo. Bouman comenzó a desarrollar el algoritmo hace tres años, cuando era estudiante de posgrado en el MIT.'''\n",
    "train_data='''Die bis zum Tag der Verhaftung unter Verschluss gehaltene Anklageschrift der USA gegen WikiLeaks-Gründer Julian Assange ist vom Umfang her begrenzt. Assange wird lediglich der Verschwörung angeklagt. Der Vorwurf lautet, er habe mit Komplizen versucht, Zugang zu einem Regierungscomputer zu bekommen, der geheime Dokumente enthielt. Die Anklage - hier nun abrufbar - beschuldigt Assange aber nicht, geheime Informationen veröffentlicht zu haben. Hätten die USA stattdessen eine Anklage wegen Spionage erhoben, wäre dies vermutlich als direkter Angriff auf die Pressefreiheit gewertet worden, die im ersten Zusatzartikel der US-amerikanischen Verfassung verankert ist. \"Dieser unterscheidet das illegale Beschaffen von Informationen vom Veröffentlichen dieser Informationen\", sagt Frederick Schauer, Rechtsprofessor an der Universität Virginia. Im Gegensatz zu vielen anderen Ländern ist es in den USA nicht nur erlaubt, sondern sogar durch die Verfassung geschützt, auch auf illegale Weise erlangte Informationen zu veröffentlichen, wie Schauer erklärt. Nur der reine Akt, diese Informationen beispielsweise durch Diebstahl oder Hacken zu beschaffen, ist verboten. In der Anklage behauptet die US-Regierung, Assange habe im Jahr 2010 der Whistleblowerin Chelsea Manning geholfen, ein Passwort zu knacken, das auf Computern des Verteidigungsministeriums gespeichert ist. Diese PCs seien mit einem Regierungsnetzwerk verbunden, das für geheime Akten und Kommunikation genutzt werde. Manning hatte durch ihre damalige Tätigkeit bereits Zugriff auf die Rechner.'''\n",
    "train_data=train_data.replace('!','.')\n",
    "train_data=train_data.replace('?','.')\n",
    "\n",
    "\n",
    "\n"
   ]
  },
  {
   "cell_type": "code",
   "execution_count": 23,
   "metadata": {},
   "outputs": [
    {
     "name": "stdout",
     "output_type": "stream",
     "text": [
      "language\n",
      "english,hungarian,norwegian,swedish,arabic,finnish,indonesian,portuguese,turkish,azerbaijani,french,italian,romanian,danish,german,kazakh,russian,dutch,greek,nepali,spanish german\n"
     ]
    }
   ],
   "source": [
    "train_data_lower=train_data.lower()\n",
    "split_data=train_data_lower.split('.')\n",
    "tokens=word_tokenize(train_data_lower)\n",
    "print(\"language\")\n",
    "language=input(\"english,hungarian,norwegian,swedish,arabic,finnish,indonesian,portuguese,turkish,azerbaijani,french,italian,romanian,danish,german,kazakh,russian,dutch,greek,nepali,spanish \")\n",
    "stopWords=stopwords.words(language)+list(string.punctuation)\n",
    "#+['The','the',\"A\",\"a\",\"\\'\"]\n",
    "special_chars=[',','.','/','\"','?','!',';',',',',',\"'\",'\"',\"''\",\"``\"]\n",
    "count_vect=CountVectorizer(input=tokens,lowercase=True,stop_words=language,min_df=2)\n",
    "for token in word_tokenize(train_data_lower):\n",
    "    if token in stopWords:\n",
    "        tokens.remove(token)\n",
    "for token in tokens:\n",
    "    if token in special_chars:\n",
    "        tokens.remove(token)\n",
    "\n",
    "tot_length=int(tokens.count(max(tokens,key=tokens.count)))\n",
    "weight={}\n",
    "weight_sent={}\n",
    "\n",
    "\n",
    "###remove redundant tokens\n",
    "def red_tokens(tokens):\n",
    "    tokens=list(set(tokens))\n",
    "        \n",
    "###calculation of the weights\n",
    "def calc_weights(tokens):\n",
    "    for token in tokens:\n",
    "        weight[token]=tokens.count(token)/tot_length"
   ]
  },
  {
   "cell_type": "code",
   "execution_count": 26,
   "metadata": {},
   "outputs": [
    {
     "name": "stdout",
     "output_type": "stream",
     "text": [
      "query(comma seperated, NA if none) NA\n",
      "NA\n",
      "{'tag': 0.2, 'verhaftung': 0.2, 'verschluss': 0.2, 'gehaltene': 0.2, 'anklageschrift': 0.2, 'usa': 0.6, 'wikileaks-gründer': 0.2, 'julian': 0.2, 'assange': 0.8, 'umfang': 0.2, 'her': 0.2, 'begrenzt': 0.2, 'lediglich': 0.2, 'verschwörung': 0.2, 'angeklagt': 0.2, 'vorwurf': 0.2, 'lautet': 0.2, 'komplizen': 0.2, 'versucht': 0.2, 'zugang': 0.2, 'regierungscomputer': 0.2, 'bekommen': 0.2, 'geheime': 0.6, 'dokumente': 0.2, 'enthielt': 0.2, 'anklage': 0.6, 'abrufbar': 0.2, 'beschuldigt': 0.2, 'informationen': 1.0, 'veröffentlicht': 0.2, 'hätten': 0.2, 'stattdessen': 0.2, 'wegen': 0.2, 'spionage': 0.2, 'erhoben': 0.2, 'wäre': 0.2, 'vermutlich': 0.2, 'direkter': 0.2, 'angriff': 0.2, 'pressefreiheit': 0.2, 'gewertet': 0.2, 'worden': 0.2, 'ersten': 0.2, 'zusatzartikel': 0.2, 'us-amerikanischen': 0.2, 'verfassung': 0.4, 'verankert': 0.2, 'unterscheidet': 0.2, 'illegale': 0.4, 'beschaffen': 0.4, 'veröffentlichen': 0.4, 'sagt': 0.2, 'frederick': 0.2, 'schauer': 0.4, 'rechtsprofessor': 0.2, 'universität': 0.2, 'virginia': 0.2, 'gegensatz': 0.2, 'vielen': 0.2, 'ländern': 0.2, 'erlaubt': 0.2, 'sogar': 0.2, 'geschützt': 0.2, 'weise': 0.2, 'erlangte': 0.2, 'erklärt': 0.2, 'reine': 0.2, 'akt': 0.2, 'beispielsweise': 0.2, 'diebstahl': 0.2, 'hacken': 0.2, 'verboten': 0.2, 'behauptet': 0.2, 'us-regierung': 0.2, 'jahr': 0.2, '2010': 0.2, 'whistleblowerin': 0.2, 'chelsea': 0.2, 'manning': 0.4, 'geholfen': 0.2, 'passwort': 0.2, 'knacken': 0.2, 'computern': 0.2, 'verteidigungsministeriums': 0.2, 'gespeichert': 0.2, 'pcs': 0.2, 'seien': 0.2, 'regierungsnetzwerk': 0.2, 'verbunden': 0.2, 'akten': 0.2, 'kommunikation': 0.2, 'genutzt': 0.2, 'damalige': 0.2, 'tätigkeit': 0.2, 'bereits': 0.2, 'zugriff': 0.2, 'rechner': 0.2}\n"
     ]
    }
   ],
   "source": [
    "red_tokens(tokens)\n",
    "calc_weights(tokens)\n",
    "query_weight=max(weight.values())+10\n",
    "query=input(\"query(comma seperated, NA if none) \")\n",
    "query_=[]\n",
    "print(query)\n",
    "if query != \"NA\":\n",
    "    print(\"inside\")\n",
    "    query_=query.split(\",\")\n",
    "    for i in query_:\n",
    "        weight[i]=query_weight\n",
    "else:\n",
    "    pass\n",
    "print(weight)"
   ]
  },
  {
   "cell_type": "code",
   "execution_count": 27,
   "metadata": {},
   "outputs": [
    {
     "name": "stdout",
     "output_type": "stream",
     "text": [
      "{'die bis zum tag der verhaftung unter verschluss gehaltene anklageschrift der usa gegen wikileaks-gründer julian assange ist vom umfang her begrenzt': 3.4000000000000004, ' assange wird lediglich der verschwörung angeklagt': 1.4, ' der vorwurf lautet, er habe mit komplizen versucht, zugang zu einem regierungscomputer zu bekommen, der geheime dokumente enthielt': 1.7999999999999998, ' die anklage - hier nun abrufbar - beschuldigt assange aber nicht, geheime informationen veröffentlicht zu haben': 3.6, ' hätten die usa stattdessen eine anklage wegen spionage erhoben, wäre dies vermutlich als direkter angriff auf die pressefreiheit gewertet worden, die im ersten zusatzartikel der us-amerikanischen verfassung verankert ist': 4.400000000000002, ' \"dieser unterscheidet das illegale beschaffen von informationen vom veröffentlichen dieser informationen\", sagt frederick schauer, rechtsprofessor an der universität virginia': 3.400000000000001, ' im gegensatz zu vielen anderen ländern ist es in den usa nicht nur erlaubt, sondern sogar durch die verfassung geschützt, auch auf illegale weise erlangte informationen zu veröffentlichen, wie schauer erklärt': 4.200000000000001, ' nur der reine akt, diese informationen beispielsweise durch diebstahl oder hacken zu beschaffen, ist verboten': 1.9999999999999998, ' in der anklage behauptet die us-regierung, assange habe im jahr 2010 der whistleblowerin chelsea manning geholfen, ein passwort zu knacken, das auf computern des verteidigungsministeriums gespeichert ist': 3.600000000000001, ' diese pcs seien mit einem regierungsnetzwerk verbunden, das für geheime akten und kommunikation genutzt werde': 1.8, ' manning hatte durch ihre damalige tätigkeit bereits zugriff auf die rechner': 1.4, '': 0}\n"
     ]
    }
   ],
   "source": [
    "count=0\n",
    "for sent in split_data:\n",
    "    count=0\n",
    "    split=sent.split(' ')\n",
    "    for word in split:\n",
    "        if word in tokens:\n",
    "            count=count+weight[word]\n",
    "    weight_sent[sent]=count\n",
    "print(weight_sent)"
   ]
  },
  {
   "cell_type": "code",
   "execution_count": 28,
   "metadata": {},
   "outputs": [
    {
     "data": {
      "image/png": "[encoded data removed]",
      "text/plain": [
       "<Figure size 432x288 with 1 Axes>"
      ]
     },
     "metadata": {
      "needs_background": "light"
     },
     "output_type": "display_data"
    }
   ],
   "source": [
    "y_pos = np.arange(len(weight))\n",
    "performance=list(weight.values())\n",
    "\n",
    "weight_=sorted(weight,key=weight.get,reverse=True)\n",
    "weight_=weight_[0:5]\n",
    "weight_val=[]\n",
    "for i in weight_:\n",
    "    weight_val.append(weight[i])\n",
    "\n",
    "plt.bar(weight_, weight_val, align='center', alpha=0.5)\n",
    "plt.show()"
   ]
  },
  {
   "cell_type": "code",
   "execution_count": 29,
   "metadata": {},
   "outputs": [
    {
     "name": "stdout",
     "output_type": "stream",
     "text": [
      " hätten die usa stattdessen eine anklage wegen spionage erhoben, wäre dies vermutlich als direkter angriff auf die pressefreiheit gewertet worden, die im ersten zusatzartikel der us-amerikanischen verfassung verankert ist . \n",
      " im gegensatz zu vielen anderen ländern ist es in den usa nicht nur erlaubt, sondern sogar durch die verfassung geschützt, auch auf illegale weise erlangte informationen zu veröffentlichen, wie schauer erklärt . \n",
      " in der anklage behauptet die us-regierung, assange habe im jahr 2010 der whistleblowerin chelsea manning geholfen, ein passwort zu knacken, das auf computern des verteidigungsministeriums gespeichert ist . \n"
     ]
    }
   ],
   "source": [
    "threshold=3\n",
    "selected=sorted(list(weight_sent.values()),reverse=True)[0:threshold]\n",
    "for sent,weight in weight_sent.items():\n",
    "    if weight in selected:\n",
    "        print(sent,\". \")\n"
   ]
  },
  {
   "cell_type": "code",
   "execution_count": null,
   "metadata": {},
   "outputs": [],
   "source": []
  },
  {
   "cell_type": "code",
   "execution_count": null,
   "metadata": {},
   "outputs": [],
   "source": []
  }
 ],
 "metadata": {
  "kernelspec": {
   "display_name": "Python 3",
   "language": "python",
   "name": "python3"
  },
  "language_info": {
   "codemirror_mode": {
    "name": "ipython",
    "version": 3
   },
   "file_extension": ".py",
   "mimetype": "text/x-python",
   "name": "python",
   "nbconvert_exporter": "python",
   "pygments_lexer": "ipython3",
   "version": "3.7.1"
  }
 },
 "nbformat": 4,
 "nbformat_minor": 2
}
